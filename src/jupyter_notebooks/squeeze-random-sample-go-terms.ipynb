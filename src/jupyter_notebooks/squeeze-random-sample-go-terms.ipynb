{
 "cells": [
  {
   "cell_type": "markdown",
   "metadata": {},
   "source": [
    "This notebook is for random sampling of GO terms.\n",
    "For our squeeze analysis, if we just took a random sample, we would likely get many more GO terms with a low number of annotations\n",
    "I can "
   ]
  },
  {
   "cell_type": "code",
   "execution_count": 2,
   "metadata": {},
   "outputs": [],
   "source": [
    "base_dir = \"/data/jeff-law/projects/fungcat-function-prediction\""
   ]
  },
  {
   "cell_type": "code",
   "execution_count": 3,
   "metadata": {},
   "outputs": [
    {
     "name": "stderr",
     "output_type": "stream",
     "text": [
      "/home/jeffl/.local/lib/python2.7/site-packages/IPython/html.py:14: ShimWarning: The `IPython.html` package has been deprecated. You should import from `notebook` instead. `IPython.html.widgets` has moved to `ipywidgets`.\n",
      "  \"`IPython.html.widgets` has moved to `ipywidgets`.\", ShimWarning)\n"
     ]
    }
   ],
   "source": [
    "from collections import defaultdict\n",
    "import os\n",
    "import sys \n",
    "from tqdm import tqdm\n",
    "import itertools\n",
    "import utils.file_utils as utils\n",
    "sys.path.append(\"%s/src\" % (base_dir))\n",
    "#sys.path.append(os.path.dirname(os.path.dirname(os.path.dirname(os.path.abspath(__file__)))))\n",
    "import fungcat_settings as f_settings\n",
    "import matplotlib.pyplot as plt\n",
    "import pandas as pd\n",
    "import seaborn as sns\n",
    "import numpy as np"
   ]
  },
  {
   "cell_type": "code",
   "execution_count": 4,
   "metadata": {},
   "outputs": [],
   "source": [
    "os.chdir(base_dir)"
   ]
  },
  {
   "cell_type": "code",
   "execution_count": 6,
   "metadata": {},
   "outputs": [
    {
     "data": {
      "text/plain": [
       "<matplotlib.axes._subplots.AxesSubplot at 0x7f95b43f76d0>"
      ]
     },
     "execution_count": 6,
     "metadata": {},
     "output_type": "execute_result"
    },
    {
     "data": {
      "image/png": "[encoded data removed]",
      "text/plain": [
       "<matplotlib.figure.Figure at 0x7f95b43f7c90>"
      ]
     },
     "metadata": {},
     "output_type": "display_data"
    }
   ],
   "source": [
    "pos_neg_summary_file = \"inputs/pos-neg/2018_09/expc-rem-neg-comp-iea/pos-neg-50-summary-stats.tsv\"\n",
    "#columns: GO term, name, category (P/F), # pos, # neg, # unk\n",
    "#GO term>GO term name>---GO category># positive examples># negative examples># unknown examples\n",
    "df = pd.read_csv(pos_neg_summary_file, sep='\\t')\n",
    "df[df['# positive examples'] < 500]['# positive examples'].hist()"
   ]
  },
  {
   "cell_type": "code",
   "execution_count": 22,
   "metadata": {},
   "outputs": [
    {
     "name": "stdout",
     "output_type": "stream",
     "text": [
      "349\n",
      "142\n",
      "73.65\n",
      "17.45\n",
      "7.1\n"
     ]
    }
   ],
   "source": [
    "print(len(df[df['GO category'] == 'P']))\n",
    "print(len(df[df['GO category'] == 'F']))\n",
    "print(len(df) *.15)\n",
    "print(349*.15 / 3.0)\n",
    "print(142*.15 / 3)"
   ]
  },
  {
   "cell_type": "code",
   "execution_count": 11,
   "metadata": {},
   "outputs": [
    {
     "data": {
      "text/plain": [
       "16"
      ]
     },
     "execution_count": 11,
     "metadata": {},
     "output_type": "execute_result"
    }
   ],
   "source": [
    "# try sampling from these three bins:\n",
    "# 50-200\n",
    "# 200-500\n",
    "# 500+\n",
    "50 / 3"
   ]
  }
 ],
 "metadata": {
  "kernelspec": {
   "display_name": "Python 2",
   "language": "python",
   "name": "python2"
  },
  "language_info": {
   "codemirror_mode": {
    "name": "ipython",
    "version": 2
   },
   "file_extension": ".py",
   "mimetype": "text/x-python",
   "name": "python",
   "nbconvert_exporter": "python",
   "pygments_lexer": "ipython2",
   "version": "2.7.12"
  }
 },
 "nbformat": 4,
 "nbformat_minor": 2
}
