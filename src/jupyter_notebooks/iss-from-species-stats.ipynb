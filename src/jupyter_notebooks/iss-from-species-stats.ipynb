{
 "cells": [
  {
   "cell_type": "markdown",
   "metadata": {},
   "source": [
    "The goal of this notebook is to figure out from which species the sequence-based computational annotations (e.g., ISS) come from."
   ]
  },
  {
   "cell_type": "code",
   "execution_count": 1,
   "metadata": {},
   "outputs": [
    {
     "name": "stderr",
     "output_type": "stream",
     "text": [
      "/home/jeffl/.local/lib/python2.7/site-packages/IPython/html.py:14: ShimWarning: The `IPython.html` package has been deprecated. You should import from `notebook` instead. `IPython.html.widgets` has moved to `ipywidgets`.\n",
      "  \"`IPython.html.widgets` has moved to `ipywidgets`.\", ShimWarning)\n"
     ]
    }
   ],
   "source": [
    "from collections import defaultdict\n",
    "import os\n",
    "import sys \n",
    "from tqdm import tqdm\n",
    "import itertools\n",
    "import utils.file_utils as utils\n",
    "sys.path.append(\"/data/jeff-law/projects/fungcat-function-prediction/src\")\n",
    "#sys.path.append(os.path.dirname(os.path.dirname(os.path.dirname(os.path.abspath(__file__)))))\n",
    "import fungcat_settings as f_settings\n",
    "import matplotlib.pyplot as plt\n",
    "import pandas as pd\n",
    "import seaborn as sns\n",
    "import numpy as np"
   ]
  },
  {
   "cell_type": "code",
   "execution_count": 2,
   "metadata": {},
   "outputs": [],
   "source": [
    "os.chdir(\"../../\")"
   ]
  },
  {
   "cell_type": "code",
   "execution_count": 3,
   "metadata": {},
   "outputs": [],
   "source": [
    "computational_ev_codes = set(['ISS','ISO','ISA','ISM','IGC','IBA','IBD','IKR','IRD','RCA'])\n",
    "# computational_ev_codes = set(['TAS','NAS', 'IC', 'ND'])\n",
    "# computational_ev_codes = set(['EXP', 'IDA', 'IPI', 'IMP', 'IGI', 'IEP'])"
   ]
  },
  {
   "cell_type": "code",
   "execution_count": 10,
   "metadata": {},
   "outputs": [
    {
     "name": "stdout",
     "output_type": "stream",
     "text": [
      "inputs/protein-similarity/uniprot-species/2017-10-17-uniprot-prots-19-species-plus-string.tab\n"
     ]
    }
   ],
   "source": [
    "print(f_settings.UNIPROT_TO_SPECIES)"
   ]
  },
  {
   "cell_type": "code",
   "execution_count": 11,
   "metadata": {},
   "outputs": [],
   "source": [
    "# first get the taxon for each species\n",
    "uniprot_to_species = utils.readDict(f_settings.UNIPROT_TO_SPECIES, 1,2)\n",
    "# # also build the reverse\n",
    "# species_to_uniprot = {s: set() for s in selected_species}\n",
    "# for p in uniprot_to_species:\n",
    "#     species_to_uniprot[str(uniprot_to_species[p])].add(p)\n",
    "from_species = defaultdict(int)\n",
    "ev_codes = defaultdict(int)\n",
    "\n",
    "# load the GAF file\n",
    "gaf_file = \"/data/inputs/goa/2017_09/taxon/19-strains-goa.gaf\"\n",
    "for prot, ev_code, with_from in utils.readColumns(gaf_file, 2, 7, 8):\n",
    "    if uniprot_to_species.get(prot, prot) != \"243277\":\n",
    "        continue\n",
    "    if ev_code in computational_ev_codes:\n",
    "        ev_codes[ev_code] += 1\n",
    "#         with_from = with_from.split(':')\n",
    "#         if with_from[0] != \"UniProtKB\":\n",
    "#             from_species['Not UniProtKB'] += 1\n",
    "#             continue\n",
    "#         prot = with_from[-1]\n",
    "#         from_species[uniprot_to_species.get(prot, \"Not found\")] += 1\n",
    "\n"
   ]
  },
  {
   "cell_type": "code",
   "execution_count": 9,
   "metadata": {},
   "outputs": [
    {
     "name": "stdout",
     "output_type": "stream",
     "text": [
      "defaultdict(<type 'int'>, {'243277': 9, '632': 3, '83332': 9, '83333': 466, '257313': 2, '99287': 49, 'Not found': 23798, '208964': 2})\n"
     ]
    },
    {
     "data": {
      "image/png": "[encoded data removed]",
      "text/plain": [
       "<matplotlib.figure.Figure at 0x7ffb8261d650>"
      ]
     },
     "metadata": {},
     "output_type": "display_data"
    }
   ],
   "source": [
    "print(from_species)\n",
    "s = pd.Series(from_species)\n",
    "s.hist()\n",
    "plt.show()"
   ]
  },
  {
   "cell_type": "code",
   "execution_count": 12,
   "metadata": {},
   "outputs": [
    {
     "name": "stdout",
     "output_type": "stream",
     "text": [
      "defaultdict(<type 'int'>, {'ISS': 3645, 'IBA': 2309})\n"
     ]
    }
   ],
   "source": [
    "print(ev_codes)"
   ]
  }
 ],
 "metadata": {
  "kernelspec": {
   "display_name": "Python 2",
   "language": "python",
   "name": "python2"
  },
  "language_info": {
   "codemirror_mode": {
    "name": "ipython",
    "version": 2
   },
   "file_extension": ".py",
   "mimetype": "text/x-python",
   "name": "python",
   "nbconvert_exporter": "python",
   "pygments_lexer": "ipython2",
   "version": "2.7.12"
  }
 },
 "nbformat": 4,
 "nbformat_minor": 2
}
