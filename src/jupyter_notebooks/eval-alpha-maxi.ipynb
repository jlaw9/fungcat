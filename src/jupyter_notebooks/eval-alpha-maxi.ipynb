{
 "cells": [
  {
   "cell_type": "code",
   "execution_count": 1,
   "metadata": {},
   "outputs": [
    {
     "name": "stderr",
     "output_type": "stream",
     "text": [
      "/home/jeffl/.local/lib/python2.7/site-packages/IPython/html.py:14: ShimWarning: The `IPython.html` package has been deprecated. You should import from `notebook` instead. `IPython.html.widgets` has moved to `ipywidgets`.\n",
      "  \"`IPython.html.widgets` has moved to `ipywidgets`.\", ShimWarning)\n"
     ]
    }
   ],
   "source": [
    "from collections import defaultdict\n",
    "import os\n",
    "import sys \n",
    "from tqdm import tqdm\n",
    "import itertools\n",
    "import utils.file_utils as utils\n",
    "sys.path.append(\"/data/jeff-law/projects/fungcat-function-prediction/src\")\n",
    "#sys.path.append(os.path.dirname(os.path.dirname(os.path.dirname(os.path.abspath(__file__)))))\n",
    "import fungcat_settings as f_settings\n",
    "import matplotlib.pyplot as plt\n",
    "import pandas as pd\n",
    "import seaborn as sns\n",
    "import numpy as np"
   ]
  },
  {
   "cell_type": "code",
   "execution_count": 2,
   "metadata": {},
   "outputs": [],
   "source": [
    "# !cd /data/jeff-law/projects/fungcat-function-prediction\n",
    "os.chdir(\"/data/jeff-law/projects/fungcat-function-prediction\")"
   ]
  },
  {
   "cell_type": "code",
   "execution_count": 3,
   "metadata": {},
   "outputs": [
    {
     "data": {
      "text/plain": [
       "'/data/jeff-law/projects/fungcat-function-prediction'"
      ]
     },
     "execution_count": 3,
     "metadata": {},
     "output_type": "execute_result"
    }
   ],
   "source": [
    "os.getcwd()"
   ]
  },
  {
   "cell_type": "code",
   "execution_count": 4,
   "metadata": {},
   "outputs": [],
   "source": [
    "# cv_file_template = \"outputs/%s/all/%s/%s/cv-5folds-%sl%s-a%s-eps%s.txt\"\n",
    "cv_file_template = \"outputs/%s/all/%s/%s/cv-5folds-%sl%s%s%s.txt\"\n",
    "\n",
    "def parse_files(versions, algorithms, exp_name, l_list, a_list, eps_list, maxi_list, unweighted_list,\n",
    "               cv_file_template=\"outputs/%s/all/%s/%s/cv-5folds-%sl%s%s%s%s.txt\",\n",
    "               loso=False):\n",
    "    params_fmax = {}\n",
    "    for version in versions:\n",
    "        for alg in algorithms:\n",
    "            for l, a, eps, max_iters, unw in itertools.product(*[l_list, a_list, eps_list, maxi_list, unweighted_list]):\n",
    "                cv_file = cv_file_template % (version, alg, exp_name, unw, \n",
    "                                              str(l).replace('.','_'), a, eps, max_iters)\n",
    "#                                               str(l).replace('.','_'), str(a).replace('.','_'), str(eps).replace('.','_'))\n",
    "    #             file_name = os.path.basename(cv_file).replace('cv-5folds-','')\n",
    "                if os.path.isfile(cv_file):\n",
    "                    print(\"reading %s\" % (cv_file))\n",
    "                    if loso is False:\n",
    "                        goterm_fmax = {goterm: float(fmax) for goterm, fmax in utils.readColumns(cv_file, 1,2) if fmax != 'fmax'}\n",
    "                    else:\n",
    "                        goterm_fmax = {\"%s-%s\" % (sp, goterm): float(fmax) \n",
    "                                       for sp, goterm, fmax, num_ann in utils.readColumns(cv_file, 1,2,3,7) \n",
    "                                       if fmax != 'fmax' and int(num_ann) >= 10}\n",
    "                    curr_key = (\"%s %s %s, %s %s, %s\" % (version, exp_name, alg, unw.replace('-',''), str(a), max_iters))\n",
    "#                     curr_key = (\"%s %s, l=%d, a=%s\" % (alg, unw.replace('-',''), l, str(a)))\n",
    "    #                 curr_key = (\"lambda%d, alpha%s\" % (l, str(a)))\n",
    "                    params_fmax[curr_key] = goterm_fmax\n",
    "                else:\n",
    "                    print(\"%s doesn't exist\" % (cv_file))\n",
    "    print(\"%d total files read\" % (len(params_fmax)))\n",
    "    return params_fmax"
   ]
  },
  {
   "cell_type": "code",
   "execution_count": 5,
   "metadata": {},
   "outputs": [],
   "source": [
    "def limit_to_h_goterms(df,\n",
    "    h='bp', only_functions_file=\"inputs/only-functions/expc/expc-50-1000.txt\"):\n",
    "    # try splitting into bp and mf \n",
    "    lines = utils.readColumns(only_functions_file, 1, 3)\n",
    "    bp = set()\n",
    "    mf = set()\n",
    "    for goid, gocat in lines:\n",
    "        if gocat == 'P':\n",
    "            bp.add(goid)\n",
    "        elif gocat == 'F':\n",
    "            mf.add(goid)\n",
    "    print(len(bp), len(mf))\n",
    "    if h == \"bp\":\n",
    "        df2 = df[df.index.isin(bp)]\n",
    "    elif h == 'mf':\n",
    "        df2 = df[df.index.isin(mf)]\n",
    "    else:\n",
    "        print(\"%s not implemented\" % (h))\n",
    "        return\n",
    "    print(\"%d %s goterms\" % (len(df2), h))\n",
    "    return df2"
   ]
  },
  {
   "cell_type": "markdown",
   "metadata": {},
   "source": [
    "# Squeeze Evaluations - LOSO\n",
    "We're repeating the squeeze evalations using LOSO instead of 5-fold CV"
   ]
  },
  {
   "cell_type": "code",
   "execution_count": 48,
   "metadata": {},
   "outputs": [],
   "source": [
    "def plot_loso_comparison(df_loso_a, a_list, ylabel=\"Alpha\", exp_type=\"alpha\", color_palette=\"Set3\", write_to_file=False, showfliers=True, whis=1.5):\n",
    "    fig, ax = plt.subplots(figsize=(5,4))\n",
    "    sns.boxplot(data=df_loso_a, orient=\"h\", order=a_list, palette=color_palette, fliersize=2, showfliers=showfliers, whis=whis)\n",
    "    # sns.boxplot(data=df, orient=\"h\")\n",
    "    # plt.xlabel(r'$F_{\\mathrm{max}}$', fontsize=12, fontweight='bold')\n",
    "#     plt.xlim(0,1.05)\n",
    "    plt.xlabel(r'$F_{\\mathrm{max}}$', fontsize=12, fontweight='bold')\n",
    "    plt.ylabel(ylabel, fontsize=12, fontweight='bold')\n",
    "    # plt.title(\"LOSO comparing alpha (1000 max iters) \\n %s, %s \\n %d %s GO terms with >= 10 ann, %s\" % (\n",
    "    plt.title(\"LOSO comparing %s \\n %s, %s \\n %d %s GO terms with >= 10 ann, %s\" % (\n",
    "        exp_type, versions[0], exp_name, \n",
    "        len(set(x.split('-')[1] for x in df_loso_a.index)), \n",
    "        h.upper(), '-'.join(algorithms)))\n",
    "    # plt.tight_layout()\n",
    "    out_file = \"outputs/viz/sinksource-squeeze/loso/%s-%s-%s-compare-%s.pdf\" % (versions[0], exp_name, '-'.join(algorithms), exp_type)\n",
    "    # out_file = \"outputs/viz/sinksource-squeeze/loso/%s-%s-%s-compare-maxi-a0_99.pdf\" % (versions[0], exp_name, '-'.join(algorithms))\n",
    "    utils.checkDir(\"outputs/viz/sinksource-squeeze/loso\")\n",
    "    if write_to_file:\n",
    "        print(\"Writing to %s\" % (out_file))\n",
    "        plt.savefig(out_file, bbox_inches=\"tight\")\n",
    "    plt.show()\n",
    "    plt.close()\n",
    "    print(\"medians: %s\" % (', '.join([\"%s: %0.3f\" % (str(a), df_loso_a[a].median()) for a in a_list])))\n",
    "    # also write the medians to a file\n",
    "    stat_file = out_file.replace('.pdf', '.txt')\n",
    "    if write_to_file:\n",
    "        print(\"writing medians to %s\" % (stat_file))\n",
    "        with open(stat_file, 'w') as out:\n",
    "            out.write(\"#alpha/maxi\\tmedian fmax\\n\")\n",
    "            out.write(''.join([\"%s\\t%0.3f\\n\" % (str(a), df_loso_a[a].median()) for a in a_list]))\n",
    "    return stat_file"
   ]
  },
  {
   "cell_type": "code",
   "execution_count": 61,
   "metadata": {},
   "outputs": [],
   "source": [
    "# setup the parameters\n",
    "# versions = [\"2018_06-seq-sim-e0_1\"]\n",
    "# versions = [\"2018_06-seq-sim-e0_1-string\"]\n",
    "# versions = [\"2018_06-seq-sim-e0_1-string-700\"]\n",
    "versions = [\"2018_09-s200-seq-sim-e0_1\"]\n",
    "algorithms = [\"sinksource\"]\n",
    "# algorithms = [\"genemania\"]\n",
    "# maxi_list = [\"20-tol0_01\", \"20-tol0_0001\", \"20-tol1e-05\", \"20-tol1e-06\", \"20-tol1e-08\"]\n",
    "h = 'bp'\n",
    "# a_list = [1.0, 0.9, 0.8, 0.7, 0.6, 0.5]\n",
    "# h = 'mf'\n",
    "# a_list = [1.0, 0.99, 0.95, 0.9, 0.8, 0.7, 0.6, 0.5]\n",
    "a_list = [1.0, 0.95]\n",
    "# a_list = [1.0, 0.9]\n",
    "# maxi_list = [1000]\n",
    "# maxi_list = [400, 200, 50, 20, 10]\n",
    "# maxi_list = [400, 200, 50, 20, 10, 5, 2, 1]\n",
    "maxi_list = [1, 10, 2, 20, 200, 400, 5, 50, 1000]\n",
    "# exp_name = \"expc-rem-neg-comp-iea-50-1000%s-%s-use-neg\" % (\"-core\" if \"string\" in versions[0] else \"\", h)\n",
    "exp_name = \"expc-50-1000%s-%s-use-neg\" % (\"-core\" if \"string\" in versions[0] else \"\", h)\n",
    "# exp_name = \"expc-comp-rem-neg-iea-50-1000comp%s-%s-use-neg\" % (\"-core\" if \"string\" in versions[0] else \"\", h)\n",
    "# exp_name = \"expc-comp-rem-neg-iea-50-1000iea%s-%s-use-neg\" % (\"-core\" if \"string\" in versions[0] else \"\", h)\n",
    "if versions[0] == \"2018_09-s200-seq-sim-e0_1\":\n",
    "#     exp_name = \"expc-comp-rem-neg-iea-50-1000comp%s-%s-use-neg\" % (\"-core\" if \"string\" in versions[0] else \"\", h)\n",
    "#     exp_name = \"expc-comp-50-1000comp%s-%s-use-neg\" % (\"-core\" if \"string\" in versions[0] else \"\", h)\n",
    "    exp_name = \"expc-comp-50-1000iea%s-%s-use-neg\" % (\"-core\" if \"string\" in versions[0] else \"\", h)\n",
    "l_list = [0]\n",
    "# eps_list = ['-eps0_0']\n",
    "eps_list = ['-eps0_0', '-eps0_0001']\n",
    "# eps_list = ['']\n",
    "unweighted = ['']\n",
    "# exp_type = \"ground-truth\"\n",
    "exp_type = \"loso%s\" % (\"-gm2008\" if \"string\" in versions[0] else \"\")\n",
    "# exp_type = \"loso%s\" % (\"-swsn\" if \"string\" in versions[0] else \"\")\n",
    "# cv_file_template = \"outputs/%s/all/%s/%s/ground-truth-%sl%s%s%s%s.txt\"\n",
    "cv_file_template = \"outputs/%s/all/%s/%s/\" + exp_type + \"-%sl%s%s%s%s.txt\""
   ]
  },
  {
   "cell_type": "code",
   "execution_count": 62,
   "metadata": {},
   "outputs": [
    {
     "name": "stdout",
     "output_type": "stream",
     "text": [
      "outputs/2018_09-s200-seq-sim-e0_1/all/sinksource/expc-comp-50-1000iea-bp-use-neg/loso-l0-a1_0-eps0_0-maxi1.txt doesn't exist\n",
      "outputs/2018_09-s200-seq-sim-e0_1/all/sinksource/expc-comp-50-1000iea-bp-use-neg/loso-l0-a1_0-eps0_0-maxi10.txt doesn't exist\n",
      "outputs/2018_09-s200-seq-sim-e0_1/all/sinksource/expc-comp-50-1000iea-bp-use-neg/loso-l0-a1_0-eps0_0-maxi2.txt doesn't exist\n",
      "outputs/2018_09-s200-seq-sim-e0_1/all/sinksource/expc-comp-50-1000iea-bp-use-neg/loso-l0-a1_0-eps0_0-maxi20.txt doesn't exist\n",
      "outputs/2018_09-s200-seq-sim-e0_1/all/sinksource/expc-comp-50-1000iea-bp-use-neg/loso-l0-a1_0-eps0_0-maxi200.txt doesn't exist\n",
      "outputs/2018_09-s200-seq-sim-e0_1/all/sinksource/expc-comp-50-1000iea-bp-use-neg/loso-l0-a1_0-eps0_0-maxi400.txt doesn't exist\n",
      "outputs/2018_09-s200-seq-sim-e0_1/all/sinksource/expc-comp-50-1000iea-bp-use-neg/loso-l0-a1_0-eps0_0-maxi5.txt doesn't exist\n",
      "outputs/2018_09-s200-seq-sim-e0_1/all/sinksource/expc-comp-50-1000iea-bp-use-neg/loso-l0-a1_0-eps0_0-maxi50.txt doesn't exist\n",
      "reading outputs/2018_09-s200-seq-sim-e0_1/all/sinksource/expc-comp-50-1000iea-bp-use-neg/loso-l0-a1_0-eps0_0-maxi1000.txt\n",
      "outputs/2018_09-s200-seq-sim-e0_1/all/sinksource/expc-comp-50-1000iea-bp-use-neg/loso-l0-a1_0-eps0_0001-maxi1.txt doesn't exist\n",
      "outputs/2018_09-s200-seq-sim-e0_1/all/sinksource/expc-comp-50-1000iea-bp-use-neg/loso-l0-a1_0-eps0_0001-maxi10.txt doesn't exist\n",
      "outputs/2018_09-s200-seq-sim-e0_1/all/sinksource/expc-comp-50-1000iea-bp-use-neg/loso-l0-a1_0-eps0_0001-maxi2.txt doesn't exist\n",
      "outputs/2018_09-s200-seq-sim-e0_1/all/sinksource/expc-comp-50-1000iea-bp-use-neg/loso-l0-a1_0-eps0_0001-maxi20.txt doesn't exist\n",
      "outputs/2018_09-s200-seq-sim-e0_1/all/sinksource/expc-comp-50-1000iea-bp-use-neg/loso-l0-a1_0-eps0_0001-maxi200.txt doesn't exist\n",
      "outputs/2018_09-s200-seq-sim-e0_1/all/sinksource/expc-comp-50-1000iea-bp-use-neg/loso-l0-a1_0-eps0_0001-maxi400.txt doesn't exist\n",
      "outputs/2018_09-s200-seq-sim-e0_1/all/sinksource/expc-comp-50-1000iea-bp-use-neg/loso-l0-a1_0-eps0_0001-maxi5.txt doesn't exist\n",
      "outputs/2018_09-s200-seq-sim-e0_1/all/sinksource/expc-comp-50-1000iea-bp-use-neg/loso-l0-a1_0-eps0_0001-maxi50.txt doesn't exist\n",
      "outputs/2018_09-s200-seq-sim-e0_1/all/sinksource/expc-comp-50-1000iea-bp-use-neg/loso-l0-a1_0-eps0_0001-maxi1000.txt doesn't exist\n",
      "outputs/2018_09-s200-seq-sim-e0_1/all/sinksource/expc-comp-50-1000iea-bp-use-neg/loso-l0-a0_95-eps0_0-maxi1.txt doesn't exist\n",
      "reading outputs/2018_09-s200-seq-sim-e0_1/all/sinksource/expc-comp-50-1000iea-bp-use-neg/loso-l0-a0_95-eps0_0-maxi10.txt\n",
      "outputs/2018_09-s200-seq-sim-e0_1/all/sinksource/expc-comp-50-1000iea-bp-use-neg/loso-l0-a0_95-eps0_0-maxi2.txt doesn't exist\n",
      "outputs/2018_09-s200-seq-sim-e0_1/all/sinksource/expc-comp-50-1000iea-bp-use-neg/loso-l0-a0_95-eps0_0-maxi20.txt doesn't exist\n",
      "reading outputs/2018_09-s200-seq-sim-e0_1/all/sinksource/expc-comp-50-1000iea-bp-use-neg/loso-l0-a0_95-eps0_0-maxi200.txt\n",
      "outputs/2018_09-s200-seq-sim-e0_1/all/sinksource/expc-comp-50-1000iea-bp-use-neg/loso-l0-a0_95-eps0_0-maxi400.txt doesn't exist\n",
      "outputs/2018_09-s200-seq-sim-e0_1/all/sinksource/expc-comp-50-1000iea-bp-use-neg/loso-l0-a0_95-eps0_0-maxi5.txt doesn't exist\n",
      "reading outputs/2018_09-s200-seq-sim-e0_1/all/sinksource/expc-comp-50-1000iea-bp-use-neg/loso-l0-a0_95-eps0_0-maxi50.txt\n",
      "outputs/2018_09-s200-seq-sim-e0_1/all/sinksource/expc-comp-50-1000iea-bp-use-neg/loso-l0-a0_95-eps0_0-maxi1000.txt doesn't exist\n",
      "outputs/2018_09-s200-seq-sim-e0_1/all/sinksource/expc-comp-50-1000iea-bp-use-neg/loso-l0-a0_95-eps0_0001-maxi1.txt doesn't exist\n",
      "outputs/2018_09-s200-seq-sim-e0_1/all/sinksource/expc-comp-50-1000iea-bp-use-neg/loso-l0-a0_95-eps0_0001-maxi10.txt doesn't exist\n",
      "outputs/2018_09-s200-seq-sim-e0_1/all/sinksource/expc-comp-50-1000iea-bp-use-neg/loso-l0-a0_95-eps0_0001-maxi2.txt doesn't exist\n",
      "outputs/2018_09-s200-seq-sim-e0_1/all/sinksource/expc-comp-50-1000iea-bp-use-neg/loso-l0-a0_95-eps0_0001-maxi20.txt doesn't exist\n",
      "outputs/2018_09-s200-seq-sim-e0_1/all/sinksource/expc-comp-50-1000iea-bp-use-neg/loso-l0-a0_95-eps0_0001-maxi200.txt doesn't exist\n",
      "outputs/2018_09-s200-seq-sim-e0_1/all/sinksource/expc-comp-50-1000iea-bp-use-neg/loso-l0-a0_95-eps0_0001-maxi400.txt doesn't exist\n",
      "outputs/2018_09-s200-seq-sim-e0_1/all/sinksource/expc-comp-50-1000iea-bp-use-neg/loso-l0-a0_95-eps0_0001-maxi5.txt doesn't exist\n",
      "outputs/2018_09-s200-seq-sim-e0_1/all/sinksource/expc-comp-50-1000iea-bp-use-neg/loso-l0-a0_95-eps0_0001-maxi50.txt doesn't exist\n",
      "outputs/2018_09-s200-seq-sim-e0_1/all/sinksource/expc-comp-50-1000iea-bp-use-neg/loso-l0-a0_95-eps0_0001-maxi1000.txt doesn't exist\n",
      "4 total files read\n",
      "('columns: ', Index([u'2018_09-s200-seq-sim-e0_1 expc-comp-50-1000iea-bp-use-neg sinksource,  -a0_95, -maxi10',\n",
      "       u'2018_09-s200-seq-sim-e0_1 expc-comp-50-1000iea-bp-use-neg sinksource,  -a0_95, -maxi200',\n",
      "       u'2018_09-s200-seq-sim-e0_1 expc-comp-50-1000iea-bp-use-neg sinksource,  -a0_95, -maxi50',\n",
      "       u'2018_09-s200-seq-sim-e0_1 expc-comp-50-1000iea-bp-use-neg sinksource,  -a1_0, -maxi1000'],\n",
      "      dtype='object'))\n",
      "renaming to ['a0_95-10', 'a0_95-200', 'a0_95-50', 'a1_0-1000']\n"
     ]
    },
    {
     "data": {
      "text/html": [
       "<div>\n",
       "<style scoped>\n",
       "    .dataframe tbody tr th:only-of-type {\n",
       "        vertical-align: middle;\n",
       "    }\n",
       "\n",
       "    .dataframe tbody tr th {\n",
       "        vertical-align: top;\n",
       "    }\n",
       "\n",
       "    .dataframe thead th {\n",
       "        text-align: right;\n",
       "    }\n",
       "</style>\n",
       "<table border=\"1\" class=\"dataframe\">\n",
       "  <thead>\n",
       "    <tr style=\"text-align: right;\">\n",
       "      <th></th>\n",
       "      <th>a0_95-10</th>\n",
       "      <th>a0_95-200</th>\n",
       "      <th>a0_95-50</th>\n",
       "      <th>a1_0-1000</th>\n",
       "    </tr>\n",
       "  </thead>\n",
       "  <tbody>\n",
       "    <tr>\n",
       "      <th>100226-GO:0000041</th>\n",
       "      <td>0.7879</td>\n",
       "      <td>0.8235</td>\n",
       "      <td>0.8235</td>\n",
       "      <td>0.7429</td>\n",
       "    </tr>\n",
       "    <tr>\n",
       "      <th>100226-GO:0000096</th>\n",
       "      <td>0.7742</td>\n",
       "      <td>0.7742</td>\n",
       "      <td>0.7742</td>\n",
       "      <td>0.6857</td>\n",
       "    </tr>\n",
       "    <tr>\n",
       "      <th>100226-GO:0000097</th>\n",
       "      <td>0.6923</td>\n",
       "      <td>0.6923</td>\n",
       "      <td>0.6923</td>\n",
       "      <td>0.6000</td>\n",
       "    </tr>\n",
       "    <tr>\n",
       "      <th>100226-GO:0000105</th>\n",
       "      <td>0.9167</td>\n",
       "      <td>0.9167</td>\n",
       "      <td>0.9167</td>\n",
       "      <td>0.8696</td>\n",
       "    </tr>\n",
       "    <tr>\n",
       "      <th>100226-GO:0000160</th>\n",
       "      <td>0.8914</td>\n",
       "      <td>0.8743</td>\n",
       "      <td>0.8743</td>\n",
       "      <td>0.8766</td>\n",
       "    </tr>\n",
       "  </tbody>\n",
       "</table>\n",
       "</div>"
      ],
      "text/plain": [
       "                   a0_95-10  a0_95-200  a0_95-50  a1_0-1000\n",
       "100226-GO:0000041    0.7879     0.8235    0.8235     0.7429\n",
       "100226-GO:0000096    0.7742     0.7742    0.7742     0.6857\n",
       "100226-GO:0000097    0.6923     0.6923    0.6923     0.6000\n",
       "100226-GO:0000105    0.9167     0.9167    0.9167     0.8696\n",
       "100226-GO:0000160    0.8914     0.8743    0.8743     0.8766"
      ]
     },
     "execution_count": 62,
     "metadata": {},
     "output_type": "execute_result"
    }
   ],
   "source": [
    "# read the files\n",
    "params_fmax = parse_files(\n",
    "    versions, algorithms, exp_name, l_list, \n",
    "    ['-a'+str(a).replace('.','_') for a in a_list], eps_list, \n",
    "#     maxi_list, unweighted,\n",
    "    ['-maxi'+str(m).replace('.','_') for m in maxi_list], unweighted,\n",
    "    cv_file_template=cv_file_template, loso=True)\n",
    "df_loso_a = pd.DataFrame(params_fmax)\n",
    "print(\"columns: \", df_loso_a.columns)\n",
    "# just rename the maxi_list to a_list for the code below\n",
    "if len(maxi_list) > 1:\n",
    "    ylabel = \"Max # Iterations\"\n",
    "    if algorithms[0] == 'genemania':\n",
    "        a_list = [float(col.split('-maxi20-tol')[-1].replace('_','.')) for col in df_loso_a.columns]\n",
    "    else:\n",
    "        exp_type = \"maxi-a%s\" % (str(a_list[0]).replace('.','_'))\n",
    "#         a_list = [int(col.split('-maxi')[-1]) for col in df_loso_a.columns]\n",
    "        # if comparing both alpha and maxi, use this:\n",
    "        a_list = ['a%s-%d' % (col.split('-a')[-1].split(', -maxi')[0], int(col.split('-maxi')[-1])) for col in df_loso_a.columns]\n",
    "else:\n",
    "    exp_type = \"alpha\"\n",
    "    ylabel = \"Alpha\"\n",
    "    a_list = a_list[::-1]\n",
    "    # TODO\n",
    "#     a_list = [int(col.split('-maxi')[-1]) for col in df_loso_a.columns]\n",
    "print(\"renaming to %s\" % (a_list))\n",
    "df_loso_a.columns = a_list\n",
    "a_list = sorted(a_list, reverse=True)\n",
    "df_loso_a.head()"
   ]
  },
  {
   "cell_type": "code",
   "execution_count": 63,
   "metadata": {},
   "outputs": [
    {
     "name": "stdout",
     "output_type": "stream",
     "text": [
      "col a0_95-10 median: 0.7356, # rows: 73228\n",
      "col a0_95-200 median: 0.7368, # rows: 73228\n",
      "col a0_95-50 median: 0.7368, # rows: 73228\n",
      "col a1_0-1000 median: 0.72705, # rows: 73228\n"
     ]
    }
   ],
   "source": [
    "# make sure they all completed\n",
    "for col in df_loso_a.columns:\n",
    "    print(\"col %s median: %s, # rows: %d\" % (col, df_loso_a[col].median(), df_loso_a[col].dropna().count()))\n",
    "# print(\"dropping rows with an NA in any column.\")\n",
    "# df_loso_a = df_loso_a.dropna(how='any')"
   ]
  },
  {
   "cell_type": "code",
   "execution_count": 54,
   "metadata": {},
   "outputs": [],
   "source": [
    "# temp replace 20 with 10 for s200 iea. TODO: fix this later\n",
    "df_loso_a[\"a0_95-20\"] = df_loso_a[\"a0_95-10\"]\n",
    "a_list = [\"a1_0-1000\", \"a0_95-200\", \"a0_95-50\", \"a0_95-20\", \"a0_95-10\"]\n",
    "# df_loso_a[\"a0_95-400\"] = df_loso_a[\"a0_95-200\"]"
   ]
  },
  {
   "cell_type": "code",
   "execution_count": 59,
   "metadata": {},
   "outputs": [
    {
     "name": "stdout",
     "output_type": "stream",
     "text": [
      "Writing to outputs/viz/sinksource-squeeze/loso/2018_09-s200-seq-sim-e0_1-expc-comp-50-1000comp-bp-use-neg-sinksource-compare-maxi-a1_0.pdf\n"
     ]
    },
    {
     "data": {
      "image/png": "[encoded data removed]",
      "text/plain": [
       "<matplotlib.figure.Figure at 0x7f9d3eef3a10>"
      ]
     },
     "metadata": {},
     "output_type": "display_data"
    },
    {
     "name": "stdout",
     "output_type": "stream",
     "text": [
      "medians: a1_0-1000: 0.990, a0_95-50: 0.986, a0_95-200: 0.987, a0_95-20: 0.984, a0_95-10: 0.982\n",
      "writing medians to outputs/viz/sinksource-squeeze/loso/2018_09-s200-seq-sim-e0_1-expc-comp-50-1000comp-bp-use-neg-sinksource-compare-maxi-a1_0.txt\n"
     ]
    }
   ],
   "source": [
    "# stat_file = plot_loso_comparison(df_loso_a, a_list, ylabel=ylabel, exp_type=exp_type, color_palette=\"Set2\", write_to_file=False, whis=100)\n",
    "stat_file = plot_loso_comparison(df_loso_a, a_list, ylabel=ylabel, exp_type=exp_type, color_palette=\"Set2\", write_to_file=True, whis=100)"
   ]
  },
  {
   "cell_type": "code",
   "execution_count": 58,
   "metadata": {},
   "outputs": [
    {
     "name": "stdout",
     "output_type": "stream",
     "text": [
      "Writing to outputs/viz/sinksource-squeeze/loso/2018_06-seq-sim-e0_1-string-700-expc-50-1000-core-bp-use-neg-sinksource-compare-maxi-a0_9.pdf\n"
     ]
    },
    {
     "data": {
      "image/png": "[encoded data removed]",
      "text/plain": [
       "<matplotlib.figure.Figure at 0x7f38c06c1750>"
      ]
     },
     "metadata": {},
     "output_type": "display_data"
    },
    {
     "name": "stdout",
     "output_type": "stream",
     "text": [
      "medians: 400: 0.455, 200: 0.455, 50: 0.455, 20: 0.453, 10: 0.449, 5: 0.441, 2: 0.428, 1: 0.385\n",
      "writing medians to outputs/viz/sinksource-squeeze/loso/2018_06-seq-sim-e0_1-string-700-expc-50-1000-core-bp-use-neg-sinksource-compare-maxi-a0_9.txt\n"
     ]
    }
   ],
   "source": [
    "# stat_file = plot_loso_comparison(df_loso_a, a_list, ylabel=ylabel, exp_type=exp_type, write_to_file=False)\n",
    "stat_file = plot_loso_comparison(df_loso_a, a_list, ylabel=ylabel, exp_type=exp_type, write_to_file=True)"
   ]
  },
  {
   "cell_type": "code",
   "execution_count": 48,
   "metadata": {},
   "outputs": [
    {
     "name": "stdout",
     "output_type": "stream",
     "text": [
      "1.0, 0.99: median of differences: 0.000e+00\n",
      "1.0, 0.95: median of differences: 0.000e+00\n",
      "1.0, 0.9: median of differences: 0.000e+00\n",
      "1.0, 0.8: median of differences: 1.800e-03\n",
      "1.0, 0.7: median of differences: 6.800e-03\n",
      "1.0, 0.6: median of differences: 1.000e-02\n",
      "1.0, 0.5: median of differences: 1.470e-02\n"
     ]
    }
   ],
   "source": [
    "# try printing the difference of the medians\n",
    "alpha_1 = df_loso_a[max(a_list)].values\n",
    "for a in a_list[1:]:\n",
    "    print(\"%s, %s: median of differences: %0.3e\" % (a_list[0], a, np.median(alpha_1 - df_loso_a[a].values)))"
   ]
  },
  {
   "cell_type": "code",
   "execution_count": 75,
   "metadata": {},
   "outputs": [
    {
     "name": "stdout",
     "output_type": "stream",
     "text": [
      "appending to outputs/viz/sinksource-squeeze/loso/2018_06-seq-sim-e0_1-string-expc-50-1000-core-bp-use-neg-sinksource-compare-maxi-a1_0.txt\n",
      "sinksource\tmaxi=a1_0-1000\tmaxi=a0_95-50\t2.793e-01\n",
      "sinksource\tmaxi=a1_0-1000\tmaxi=a0_95-5\t2.810e-02\n",
      "sinksource\tmaxi=a1_0-1000\tmaxi=a0_95-400\t2.806e-01\n",
      "sinksource\tmaxi=a1_0-1000\tmaxi=a0_95-200\t2.806e-01\n",
      "sinksource\tmaxi=a1_0-1000\tmaxi=a0_95-20\t2.241e-01\n",
      "sinksource\tmaxi=a1_0-1000\tmaxi=a0_95-2\t1.220e-04\n",
      "sinksource\tmaxi=a1_0-1000\tmaxi=a0_95-1000\t2.806e-01\n",
      "sinksource\tmaxi=a1_0-1000\tmaxi=a0_95-10\t1.304e-01\n",
      "sinksource\tmaxi=a1_0-1000\tmaxi=a0_95-1\t1.332e-11\n",
      "#alg\talpha/maxi\talpha\\maxi-2\tmedian of differences\n",
      "sinksource\ta1_0-1000\ta0_95-50\t1.000e-04\n",
      "sinksource\ta1_0-1000\ta0_95-5\t1.310e-02\n",
      "sinksource\ta1_0-1000\ta0_95-400\t1.000e-04\n",
      "sinksource\ta1_0-1000\ta0_95-200\t1.000e-04\n",
      "sinksource\ta1_0-1000\ta0_95-20\t2.200e-03\n",
      "sinksource\ta1_0-1000\ta0_95-2\t2.480e-02\n",
      "sinksource\ta1_0-1000\ta0_95-1000\t1.000e-04\n",
      "sinksource\ta1_0-1000\ta0_95-10\t7.000e-03\n",
      "sinksource\ta1_0-1000\ta0_95-1\t4.620e-02\n",
      "\n"
     ]
    }
   ],
   "source": [
    "# test for statistical significance\n",
    "from scipy.stats import kruskal, mannwhitneyu\n",
    "if exp_type == 'alpha':\n",
    "    name = exp_type\n",
    "else:\n",
    "    name = \"maxi\"\n",
    "\n",
    "alpha_1 = df_loso_a[\"a1_0-1000\"].values\n",
    "# alpha_1 = df_loso_a[max(a_list)].dropna().values\n",
    "# alpha_1 = df_loso_a[400].dropna().values\n",
    "out_str = \"\"\n",
    "# for a in a_list[:-1]:\n",
    "for a in a_list[1:]:\n",
    "    fmax_a = df_loso_a[a].dropna().values\n",
    "    test_statistic, pval = mannwhitneyu(alpha_1, fmax_a, alternative='greater') \n",
    "    out_str += \"%s\\t%s\\t%s\\t%0.3e\\n\" % ('sinksource', '%s=%s' % (name, str(max(a_list))), '%s=%s' % (name, str(a)), pval)\n",
    "# try printing the difference of the medians\n",
    "alpha_1 = df_loso_a[max(a_list)].values\n",
    "out_str += \"#alg\\talpha/maxi\\talpha\\maxi-2\\tmedian of differences\\n\"\n",
    "for a in a_list[1:]:\n",
    "    out_str += \"%s\\t%s\\t%s\\t%0.3e\\n\" % ('sinksource', a_list[0], a, np.median(alpha_1 - df_loso_a[a].values))\n",
    "print(\"appending to %s\" % (stat_file))\n",
    "with open(stat_file, 'a') as out:\n",
    "    out.write(\"#alg\\talpha/maxi\\taplha/maxi-2\\tpval\\n\")\n",
    "    out.write(out_str)\n",
    "print(out_str)"
   ]
  },
  {
   "cell_type": "code",
   "execution_count": 168,
   "metadata": {},
   "outputs": [
    {
     "name": "stdout",
     "output_type": "stream",
     "text": [
      "writing outputs/viz/sinksource-squeeze/compare-run-time-2018_06-seq-sim-e0_1-string-expc-rem-neg-comp-iea-50-1000-core-bp-use-neg-50-1000-loso-sinksource.pdf\n"
     ]
    },
    {
     "data": {
      "image/png": "[encoded data removed]",
      "text/plain": [
       "<matplotlib.figure.Figure at 0x7f198e59fe10>"
      ]
     },
     "metadata": {},
     "output_type": "display_data"
    }
   ],
   "source": [
    "# also plot the time taken\n",
    "# these times are from the log files here: /data/jeff-law/projects/fungcat-function-prediction/log/squeeze/compare-alpha\n",
    "# grep \"sinksource_total_time\" 2018_06-seq-sim-e0_1-string-expc-rem-neg-comp-iea-50-1000-core-bp-sinksource-bp-a*\n",
    "cv_time = {\n",
    "    # these times are from rank-all with GO terms with 1-9 annotations in the left-out species\n",
    "#     '1.0': 24753.18, '0.99': 24513.79,'0.95': 18244.07, '0.9': 9440.94, '0.8': 4777.73, '0.7': 3133.00,\n",
    "#     '0.6': 2310.01,'0.5': 1749.15, '50': 1552.00, '20' : 614.41, '10' : 291.75,\n",
    "    # these times are from rank-pos-neg from here: log/squeeze/./compare-alpha/2018_06-seq-sim-e0_1-string-expc-rem-neg-comp-iea-50-1000-core-bp-sinksource-squeeze-bp-a0.XX-maxi1000.log\n",
    "    # the 10 and 20 iterations should be updated because they're really recording the time taken for 9 and 19 iterations.\n",
    "    '1.0': 7967.74+(7967.74/999), '0.99': 9026.58,'0.95': 2776.46, '0.9': 1352.66, '0.8': 662.52, '0.7': 430.57,\n",
    "    '0.6': 309.81,'0.5': 236.63, '50': 390.46+(390.46/49), '20' : 151.88+(151.88/19), '10' : 72.04+(72.04/9.),\n",
    "}\n",
    "# cv_time = {    # MF\n",
    "#     '1.0': 2872.61, '0.99': 3147.64,'0.95': 977.91, '0.9': 485.37, '0.8': 240.94, '0.7': 157.49,\n",
    "#     '0.6': 114.08,'0.5': 88.38, '50': 141.229, '20' : 54.817, '10' : 25.926,\n",
    "# }\n",
    "order = ['1.0', '0.99', '0.95', '0.9', '0.8', '0.7', '0.6', '0.5', '50', '20', '10']\n",
    "# s = pd.Series(cv_time, index=order)\n",
    "# print(s.values)\n",
    "fig, ax = plt.subplots(figsize=(5,3.75))\n",
    "ax.plot(range(len(order)), [cv_time[x]/60 for x in order], marker='o', markersize=8)\n",
    "locs, labels = plt.xticks()\n",
    "# ax.set_yscale(\"log\", basey=2)\n",
    "plt.xticks(list(range(len(order))), order)\n",
    "# locs, labels = plt.yticks()\n",
    "# plt.yticks(locs[1:-1], [str(2**(i+1)) for i in range(len(labels))])\n",
    "# plt.xticks(locs, labels)\n",
    "plt.xlabel(\"Alpha %s Alpha 0.95 - # Iterations\" % (' '*50), fontsize=12, fontweight='bold')\n",
    "plt.ylabel(\"Time taken (min)\", fontsize=12, fontweight='bold')\n",
    "out_file = \"outputs/viz/sinksource-squeeze/compare-run-time-%s-%s-50-1000-loso-%s.pdf\" % (versions[0], exp_name, '-'.join(algorithms))\n",
    "print(\"writing %s\" % out_file)\n",
    "# plt.savefig(out_file)\n",
    "plt.show()\n",
    "plt.close()"
   ]
  },
  {
   "cell_type": "code",
   "execution_count": 66,
   "metadata": {},
   "outputs": [
    {
     "name": "stdout",
     "output_type": "stream",
     "text": [
      "writing outputs/viz/sinksource-squeeze/compare-run-time-2018_09-s200-seq-sim-e0_1-expc-comp-50-1000iea-bp-use-neg-50-1000-loso-sinksource.pdf\n"
     ]
    },
    {
     "data": {
      "image/png": "[encoded data removed]",
      "text/plain": [
       "<matplotlib.figure.Figure at 0x7f9d414ec810>"
      ]
     },
     "metadata": {},
     "output_type": "display_data"
    }
   ],
   "source": [
    "# these are the times for the 200 species, EXPC+COMP recov COMP\n",
    "if 'expc-comp-50-1000comp' in exp_name:\n",
    "    total_time = {\n",
    "        # BP\n",
    "        # TODO I'm estimating the values that didn't finish for now\n",
    "        # The 0.95 value is how long it took for 50 random GO terms\n",
    "    #     '1.0': 563.5*6951, '0.95': 58512.66, '200': 114.1*6951, '50': 197243.6, '20': 76650.6+3969.9, '10': 35722.5+3969.9, '5': 16239.4+3969.9, '2': 3969.9*2, '1': 3969.9,\n",
    "        '1.0': 563.5*6951, \n",
    "        '0.95': 58512.66/2.5, # divide by 3 to get 5% of terms instead of 15% of terms\n",
    "        '200': 114.1*6951, '50': 197243.6, '20': 76650.6+3969.9, '10': 35722.5+3969.9,\n",
    "    }\n",
    "    # get into hours\n",
    "    total_time = {x: total_time[x]/60/60 for x in total_time}\n",
    "elif 'expc-comp-50-1000iea' in exp_name:\n",
    "    total_time = {\n",
    "        # BP\n",
    "        # TODO I'm estimating the values that didn't finish for now\n",
    "        # The 0.95 value is how long it took for 50 random GO terms\n",
    "        '1.0': 4374.687, \n",
    "        '0.95': 6.659, # divide by 3 to get 5% of terms instead of 15% of terms\n",
    "        '200': 794.995, '50': 206.182, '20': 37.240*2, '10': 37.240,\n",
    "    }\n",
    "# order = ['1.0', '0.95', '200', '50', '20', '10', '5', '2', '1']\n",
    "order = ['1.0', '0.95', '200', '50', '20', '10']\n",
    "# s = pd.Series(cv_time, index=order)\n",
    "# print(s.values)\n",
    "fig, ax = plt.subplots(figsize=(5,3.75))\n",
    "ax.plot(range(len(order)), [total_time[x] for x in order], marker='o', markersize=8)\n",
    "locs, labels = plt.xticks()\n",
    "ax.set_yscale(\"log\", basey=2)\n",
    "plt.xticks(list(range(len(order))), order)\n",
    "# locs, labels = plt.yticks()\n",
    "# plt.yticks(locs[1:-1], [str(2**((i*2)-1)) for i in range(len(labels))])\n",
    "# plt.xticks(locs, labels)\n",
    "plt.xlabel(\"Alpha %s Alpha 0.95 - # Iterations\" % (' '*10), fontsize=12, fontweight='bold')\n",
    "plt.ylabel(\"Time taken (hrs)\", fontsize=12, fontweight='bold')\n",
    "out_file = \"outputs/viz/sinksource-squeeze/compare-run-time-%s-%s-50-1000-loso-%s.pdf\" % (versions[0], exp_name, '-'.join(algorithms))\n",
    "print(\"writing %s\" % out_file)\n",
    "plt.savefig(out_file)\n",
    "plt.show()\n",
    "plt.close()"
   ]
  },
  {
   "cell_type": "code",
   "execution_count": null,
   "metadata": {},
   "outputs": [],
   "source": [
    "# also make a scatterplot comparing alpha=1 to alpha=0.8\n",
    "# df2[[1.0, 0.8]].plot.scatter(0.8, 1.0)\n",
    "df3 = df_loso_a[[1.0, 0.8]]\n",
    "alpha_comp = \"alpha 1.0 Fmax - alpha 0.8 Fmax\"\n",
    "xlabel = \"alpha 1.0 Fmax\"\n",
    "# df3[x] = df3[1.0]\n",
    "df3[alpha_comp] = df3[1.0] - df3[0.8]\n",
    "grid = sns.jointplot(x=1.0, y=alpha_comp, data=df3,\n",
    "              stat_func=None, annot_kws=dict(fontsize=18), # joint_kws={\"s\": 20}, marginal_kws=dict(bins=40),\n",
    "             )\n",
    "# change the font\n",
    "# sns.axes_style()\n",
    "grid.set_axis_labels(xlabel=xlabel, ylabel=alpha_comp, fontsize=12, fontweight='bold')\n",
    "\n",
    "out_file = \"outputs/viz/sinksource-squeeze/loso/%s-%s-%s-compare-%s-scatter.pdf\" % (versions[0], exp_name, '-'.join(algorithms), exp_type)\n",
    "print(\"Writing to %s\" % (out_file))\n",
    "plt.savefig(out_file)\n",
    "\n",
    "print(\"1.0 > 0.8: %0.2f, 1.0 < 0.8: %0.2f, == %0.2f\" % (\n",
    "    len(df3[df3[alpha_comp] > 0]) / float(len(df3)), \n",
    "    len(df3[df3[alpha_comp] < 0]) / float(len(df3)), \n",
    "    len(df3[df3[alpha_comp] == 0]) / float(len(df3))))"
   ]
  },
  {
   "cell_type": "code",
   "execution_count": 39,
   "metadata": {},
   "outputs": [
    {
     "name": "stdout",
     "output_type": "stream",
     "text": [
      "sinksource\tmax_iters=400\tmax_iters=200\t0.182\n",
      "sinksource\tmax_iters=400\tmax_iters=50\t0.506\n",
      "sinksource\tmax_iters=400\tmax_iters=20\t0.500\n",
      "sinksource\tmax_iters=400\tmax_iters=10\t0.310\n",
      "sinksource\tmax_iters=400\tmax_iters=5\t0.094\n",
      "sinksource\tmax_iters=400\tmax_iters=2\t0.238\n",
      "sinksource\tmax_iters=400\tmax_iters=1\t0.014\n"
     ]
    }
   ],
   "source": [
    "# test for statistical significance\n",
    "from scipy.stats import kruskal, mannwhitneyu\n",
    "\n",
    "alpha_1 = df_loso_a[20].values\n",
    "for a in a_list[1:]:\n",
    "    fmax_a = df_loso_a[a].values\n",
    "    test_statistic, pval = mannwhitneyu(alpha_1, fmax_a, alternative='greater') \n",
    "    print(\"%s\\t%s\\t%s\\t%0.3f\" % ('sinksource', 'max_iters=400', 'max_iters='+str(a), pval))"
   ]
  }
 ],
 "metadata": {
  "kernelspec": {
   "display_name": "Python 2",
   "language": "python",
   "name": "python2"
  },
  "language_info": {
   "codemirror_mode": {
    "name": "ipython",
    "version": 3
   },
   "file_extension": ".py",
   "mimetype": "text/x-python",
   "name": "python",
   "nbconvert_exporter": "python",
   "pygments_lexer": "ipython3",
   "version": "3.6.8"
  }
 },
 "nbformat": 4,
 "nbformat_minor": 2
}
