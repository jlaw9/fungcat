{
 "cells": [
  {
   "cell_type": "code",
   "execution_count": 2,
   "metadata": {},
   "outputs": [
    {
     "name": "stdout",
     "output_type": "stream",
     "text": [
      "python version: 2.7.12 (default, Nov 12 2018, 14:36:49) \n",
      "matplotlib version: 2.0.0\n",
      "pandas version: 0.22.0\n",
      "seaborn version: 0.7.1\n",
      "numpy version: 1.14.2\n",
      "scipy version: 1.1.0\n"
     ]
    },
    {
     "name": "stderr",
     "output_type": "stream",
     "text": [
      "/home/jeffl/.local/lib/python2.7/site-packages/IPython/html.py:14: ShimWarning: The `IPython.html` package has been deprecated. You should import from `notebook` instead. `IPython.html.widgets` has moved to `ipywidgets`.\n",
      "  \"`IPython.html.widgets` has moved to `ipywidgets`.\", ShimWarning)\n"
     ]
    }
   ],
   "source": [
    "from collections import defaultdict\n",
    "import os\n",
    "import sys \n",
    "from tqdm import tqdm\n",
    "import itertools\n",
    "import utils.file_utils as utils\n",
    "sys.path.append(\"/data/jeff-law/projects/fungcat-function-prediction/src\")\n",
    "#sys.path.append(os.path.dirname(os.path.dirname(os.path.dirname(os.path.abspath(__file__)))))\n",
    "import fungcat_settings as f_settings\n",
    "import matplotlib\n",
    "import matplotlib.pyplot as plt\n",
    "import pandas as pd\n",
    "import seaborn as sns\n",
    "import numpy as np\n",
    "import scipy\n",
    "from scipy.stats import kruskal, mannwhitneyu\n",
    "print(\"python version: %s\" % (sys.version.split('\\n')[0]))\n",
    "print(\"matplotlib version: %s\" % (matplotlib.__version__))\n",
    "print(\"pandas version: %s\" % (pd.__version__))\n",
    "print(\"seaborn version: %s\" % (sns.__version__))\n",
    "print(\"numpy version: %s\" % (np.__version__))\n",
    "print(\"scipy version: %s\" % (scipy.__version__))"
   ]
  },
  {
   "cell_type": "code",
   "execution_count": 3,
   "metadata": {},
   "outputs": [],
   "source": [
    "os.chdir(\"../..\")"
   ]
  },
  {
   "cell_type": "code",
   "execution_count": 4,
   "metadata": {},
   "outputs": [],
   "source": [
    "alg_name = {'sinksource-squeeze': 'SinkSource Squeeze', \n",
    "            'localplus': 'Local+', 'local': 'Local',\n",
    "#             'localplus': 'Blast Avg.', 'local': 'Local',\n",
    "            'sinksource': 'SinkSource', 'sinksourceplus': 'SinkSource+',\n",
    "           'birgrank': 'BirgRank', 'genemania': 'GeneMANIA', 'aptrank': 'AptRank OneWay'}"
   ]
  },
  {
   "cell_type": "code",
   "execution_count": 48,
   "metadata": {},
   "outputs": [],
   "source": [
    "def get_results(version, exp_names, algorithms, unweighted='', \n",
    "                alpha_list=[\"0_8\"], theta_list=[None], mu_list=[None], lambda_list=[None], tol_list=[\"\"],\n",
    "                ss_alpha=\"0_8\", maxi_list=[], ss_maxi=\"eps0_0-maxi20\", exp_type=\"ground-truth\", verbose=False):\n",
    "    df_all = pd.DataFrame()\n",
    "    for exp_name in exp_names:\n",
    "        loaded = {alg: False for alg in algorithms}\n",
    "        read_files = set()\n",
    "        for alg in algorithms:\n",
    "            if loaded[alg] is True:\n",
    "                print(\"Warning! %s being loaded again for %s\" % (alg, exp_name))\n",
    "            # load the results table\n",
    "            results_dir = \"outputs/%s/all/%s/%s\" % (version, alg, exp_name)\n",
    "            for alpha, theta, mu, br_lambda, maxi, tol in itertools.product(*[\n",
    "                alpha_list, theta_list, mu_list, lambda_list, maxi_list, tol_list]):\n",
    "                if tol != \"\":\n",
    "                    # tol should only be for genemania\n",
    "                    if alg != \"genemania\":\n",
    "                        continue\n",
    "                    results_file = \"%s/%s%s-%sl0-a%s%s%s.txt\" % (\n",
    "                        results_dir, 'all-sp-' if keep_ann!='' else '', exp_type, unweighted, alpha, maxi, tol)\n",
    "                elif alg == 'birgrank' and (theta is not None and mu is not None and br_lambda is not None):\n",
    "                    results_file = \"%s/%s%s-%sl0-a%s%s%s%s%s%s.txt\" % (\n",
    "                        results_dir, 'all-sp-' if keep_ann!='' else '', exp_type,\n",
    "                        \"swsn-\" if 'string' in version and unweighted in [\"\", \"goterm-weight-\"] else unweighted, # BirgRank can't use goterm-weight, so don't include it\n",
    "                        alpha, maxi, \n",
    "                        theta, mu, br_lambda, \"a0_5\" if maxi == \"\" else \"\")\n",
    "#                         results_dir, unweighted, alpha, theta, mu, alpha)\n",
    "                elif alg == 'aptrank':\n",
    "                    results_file = \"%s/%s%s-%sl0%s-k8-s5-t0_5-%sa%s%s.txt\" % (\n",
    "                        results_dir, 'all-sp-' if keep_ann!='' else '', exp_type,\n",
    "                        \"swsn-\" if unweighted not in [\"unw-\"] else '', \n",
    "                        br_lambda, \"oneway\", alpha, maxi)\n",
    "                else:\n",
    "                    results_file = \"%s/%s%s-%sl0-a%s%s.txt\" % (\n",
    "                        results_dir, 'all-sp-' if keep_ann!='' else '', exp_type, unweighted, alpha, maxi)\n",
    "                if verbose:\n",
    "                    print(\"Reading results from %s\" % (results_file))\n",
    "                if not os.path.isfile(results_file):\n",
    "                    if verbose:\n",
    "                        print(\"\\tdoesn't exist. Skipping\")\n",
    "                    continue\n",
    "                if results_file in read_files:\n",
    "                    # don't read a file twice. This happens to BirgRank if we are using multiple different max_iters\n",
    "                    continue\n",
    "                read_files.add(results_file)\n",
    "                # results_file_template = \"%s/groundtruth-l0-a0_8.txt\" % (results_dir)\n",
    "                \n",
    "                # now read the file\n",
    "                df = pd.read_csv(results_file, sep='\\t', header=[0])\n",
    "                # and set the name of the algorithm in the dataframe appropriately \n",
    "                if alg == \"birgrank\" and alpha == \"0_5\" and theta == \"0_5\" and mu == \"0_5\":\n",
    "                    df['Algorithm'] = alg_name[alg]\n",
    "                    loaded[alg] = True\n",
    "                elif alg == \"birgrank\":\n",
    "                    df['Algorithm'] = 'birgrank a%s%s%s%s%s' % (alpha, theta, mu, br_lambda, maxi)\n",
    "#                 elif alg == \"sinksource\" and alpha != \"1_0\":\n",
    "                elif alg == \"sinksource\" and (alpha != ss_alpha or maxi != ss_maxi):\n",
    "                    df['Algorithm'] = 'sinksource a%s %s' % (alpha, maxi)\n",
    "#                     print(\"\\t keeping only alpha %s for now\" % (ss_alpha))\n",
    "#                     continue\n",
    "                else:\n",
    "                    df['Algorithm'] = alg_name[alg]\n",
    "                    if verbose:\n",
    "                        print(\"%d sp-goterm pairs\" % (len(df['Algorithm'])))\n",
    "                    loaded[alg] = True\n",
    "\n",
    "#                 print(df.head())\n",
    "                # I changed '# ann' to be the more correct '# test ann', but am changing it back here to match previous files \n",
    "                if '# test ann' in df.columns:\n",
    "                    df.rename(columns={'# test ann':'# ann'}, inplace=True)\n",
    "                df_all = pd.concat((df_all, df))\n",
    "    return df_all"
   ]
  },
  {
   "cell_type": "code",
   "execution_count": 6,
   "metadata": {},
   "outputs": [
    {
     "name": "stdout",
     "output_type": "stream",
     "text": [
      "Reading positive and negative annotations for each protein from inputs/pos-neg/exp/pos-neg-bp-50-list.tsv\n",
      "Reading positive and negative annotations for each protein from inputs/pos-neg/exp/pos-neg-mf-50-list.tsv\n",
      "Reading positive and negative annotations for each protein from inputs/pos-neg/comp/pos-neg-bp-5-list.tsv\n",
      "Reading positive and negative annotations for each protein from inputs/pos-neg/comp/pos-neg-mf-5-list.tsv\n",
      "Reading positive and negative annotations for each protein from inputs/pos-neg/iea/pos-neg-bp-10-list.tsv\n",
      "Reading positive and negative annotations for each protein from inputs/pos-neg/iea/pos-neg-mf-10-list.tsv\n"
     ]
    }
   ],
   "source": [
    "# also read in the prots annotated to each GO term\n",
    "def parse_pos_neg_file(pos_neg_file, goterms=None):\n",
    "    print(\"Reading positive and negative annotations for each protein from %s\" % (pos_neg_file))\n",
    "    goid_prots = {}\n",
    "    with open(pos_neg_file, 'r') as f:\n",
    "        for line in f:\n",
    "            if line[0] == '#':\n",
    "                continue\n",
    "            goid, pos_neg_assignment, prots = line.rstrip().split('\\t')[:3]\n",
    "            if goterms and goid not in goterms:\n",
    "                continue\n",
    "            prots = set(prots.split(','))\n",
    "            if int(pos_neg_assignment) == 1:\n",
    "                goid_prots[goid] = prots\n",
    "    return goid_prots\n",
    "\n",
    "def get_species_prot_counts(goid_prots, species_to_uniprot, selected_species=None, goids=None):\n",
    "    print(\"Getting annotation counts per species\")\n",
    "    if selected_species is None:\n",
    "        selected_species = species_to_uniprot.keys()\n",
    "    if goids is None:\n",
    "        goids = goid_prots.keys()\n",
    "    species_prot_counts = {}\n",
    "    for s in selected_species:\n",
    "        species_prots = species_to_uniprot[str(int(s))]\n",
    "        #print(\"species: %s, %d prots\" % (s, len(species_prots)))\n",
    "#         total_prots = set()\n",
    "        total_ann = 0\n",
    "        for goid in goids:\n",
    "            if goid not in goid_prots:\n",
    "                continue\n",
    "            s_prots = goid_prots[goid] & species_prots\n",
    "#             total_prots.update(s_prots)\n",
    "            total_ann += len(s_prots)\n",
    "        species_prot_counts[s] = total_ann\n",
    "        \n",
    "    return species_prot_counts\n",
    "\n",
    "ev_codes = \"exp\"\n",
    "pos_neg_files = [\n",
    "        \"inputs/pos-neg/%s/pos-neg-bp-50-list.tsv\" % (ev_codes), \n",
    "        \"inputs/pos-neg/%s/pos-neg-mf-50-list.tsv\" % (ev_codes),\n",
    "]\n",
    "exp_goid_prots = {}\n",
    "for pos_neg_file in pos_neg_files:\n",
    "    exp_goid_prots.update(parse_pos_neg_file(pos_neg_file))\n",
    "    \n",
    "\n",
    "# ev_codes = \"rem-neg-iea\"\n",
    "ev_codes = \"comp\"\n",
    "pos_neg_files = [\n",
    "        \"inputs/pos-neg/%s/pos-neg-bp-5-list.tsv\" % (ev_codes), \n",
    "        \"inputs/pos-neg/%s/pos-neg-mf-5-list.tsv\" % (ev_codes),\n",
    "]\n",
    "comp_goid_prots = {}\n",
    "for pos_neg_file in pos_neg_files:\n",
    "    comp_goid_prots.update(parse_pos_neg_file(pos_neg_file))\n",
    "\n",
    "ev_codes = \"iea\"\n",
    "pos_neg_files = [\n",
    "        \"inputs/pos-neg/%s/pos-neg-bp-10-list.tsv\" % (ev_codes), \n",
    "        \"inputs/pos-neg/%s/pos-neg-mf-10-list.tsv\" % (ev_codes),\n",
    "]\n",
    "iea_goid_prots = {}\n",
    "for pos_neg_file in pos_neg_files:\n",
    "    iea_goid_prots.update(parse_pos_neg_file(pos_neg_file))"
   ]
  },
  {
   "cell_type": "code",
   "execution_count": 7,
   "metadata": {},
   "outputs": [],
   "source": [
    "def split_results_by_cutoffs(df_all, cutoffs, \n",
    "                             exp_goid_prots, comp_goid_prots, iea_goid_prots, \n",
    "                             overall_goid_prots=None):\n",
    "    # now limit it to the current GO term split\n",
    "    cutoffs_data = []\n",
    "    for cutoff1, cutoff2 in cutoffs:\n",
    "        print(cutoff1, cutoff2)\n",
    "#         if split_by_overall_counts is True:\n",
    "            # group the goids by the # of ann in all 19 species\n",
    "            # this would be the # of annotations in the evaluation group\n",
    "            # we want the # of annotations with the training evidence codes\n",
    "            #num_ann = df_all[df_all['Algorithm'] == 'SinkSource'][['goid', '# ann']].groupby(\"goid\").sum()\n",
    "        if overall_goid_prots is not None:\n",
    "            print(\"\\tusing splits over all species\")\n",
    "            curr_goids = set([g for g, prots in overall_goid_prots.items() if len(prots) >= cutoff1 and len(prots) < cutoff2])\n",
    "            df_curr = df_all[df_all['goid'].isin(curr_goids)]\n",
    "            # also only keep those that have at least 10 in the evaluated species\n",
    "            df_curr = df_curr[(df_curr['# ann'] >= 10)]\n",
    "        else:\n",
    "            print(\"\\tusing splits for each individual species\")\n",
    "#             col = '# ann' if '# ann' in df_curr.columns else '# test ann'\n",
    "            col = '# ann'\n",
    "            df_curr = df_all[(df_all[col] >= cutoff1) & (df_all[col] < cutoff2)] \n",
    "        if keep_ann != '':\n",
    "            # species are not split\n",
    "            species_exp_counts = {}\n",
    "            species_comp_counts = {}\n",
    "            species_iea_counts = {}\n",
    "        else:\n",
    "            species_exp_counts = get_species_prot_counts(exp_goid_prots, species_to_uniprot, \n",
    "                                                          selected_species=df_curr['#taxon'].unique(), \n",
    "                                                          goids=set(df_curr['goid'].values))\n",
    "            species_comp_counts = get_species_prot_counts(comp_goid_prots, species_to_uniprot, \n",
    "                                                          selected_species=df_curr['#taxon'].unique(), \n",
    "                                                          goids=set(df_curr['goid'].values))\n",
    "            species_iea_counts = get_species_prot_counts(iea_goid_prots, species_to_uniprot, \n",
    "                                                          selected_species=df_curr['#taxon'].unique(), \n",
    "                                                          goids=set(df_curr['goid'].values))\n",
    "        cutoffs_data.append((df_curr, species_exp_counts, species_comp_counts, species_iea_counts))\n",
    "    return cutoffs_data"
   ]
  },
  {
   "cell_type": "code",
   "execution_count": 42,
   "metadata": {},
   "outputs": [
    {
     "name": "stdout",
     "output_type": "stream",
     "text": [
      "[['expc-rem-neg-comp-iea', '-core', '', 'bp']]\n"
     ]
    }
   ],
   "source": [
    "# main cell for getting the data\n",
    "algorithms = [\"sinksource\", \"genemania\", \"birgrank\", \"localplus\"]\n",
    "# versions = [\"2018_06-seq-sim-e0_1\",]\n",
    "versions = [\"2018_06-seq-sim-e0_1-string\",]\n",
    "# versions = [\"2018_09-s200-seq-sim-e0_1\",]\n",
    "selected_species = utils.readDict(f_settings.VERSION_SELECTED_STRAINS[versions[0]], 1, 2)\n",
    "uniprot_to_species = utils.readDict(f_settings.VERSION_UNIPROT_TO_SPECIES[versions[0]], 1,2)\n",
    "# also build the reverse\n",
    "species_to_uniprot = {s: set() for s in selected_species}\n",
    "for p in uniprot_to_species:\n",
    "    species_to_uniprot[str(uniprot_to_species[p])].add(p)\n",
    "# measures = ['avgp', 'auprc', 'auroc']\n",
    "measures = ['fmax']\n",
    "alpha_list = [\"1_0\", \"0_95\", \"0_5\"]\n",
    "theta_list = [\"-t0_5\"]\n",
    "mu_list = [\"-m0_5\"]\n",
    "# I forgot to include the lambda parameter before, meaning \"\" = 1\n",
    "lambda_list = [\"\", \"-l0_5\", \"-l0_01\"]\n",
    "# use these settings for previous results\n",
    "exp_type = \"loso\"\n",
    "maxi_list = [\"-eps0_0001-maxi1000\"]\n",
    "unweighted = \"\"\n",
    "ev_code_list = [\n",
    "    (\"expc-rem-neg-comp-iea\", \"-core\", \"\"),\n",
    "#     (\"expc-comp-rem-neg-iea\", \"comp\", \"\"),\n",
    "#     (\"expc-comp\", \"iea\", \"\"),\n",
    "#     (\"expc-comp-rem-neg-iea\", \"iea\", \"\"),\n",
    "#     (\"expc-comp-rem-neg-iea\", \"iea-core\", \"\"),\n",
    "]\n",
    "ev_code_list2 = []\n",
    "# for h in ['bp', 'mf']:\n",
    "for h in ['bp']:\n",
    "    for l in ev_code_list:\n",
    "        ev_code_list2.append(list(l)+[h])\n",
    "ev_code_list = ev_code_list2\n",
    "print(ev_code_list)"
   ]
  },
  {
   "cell_type": "code",
   "execution_count": 63,
   "metadata": {},
   "outputs": [],
   "source": [
    "algorithms = [\"birgrank\"]\n",
    "# compare_type = \"compare-lambda\"\n",
    "# lambda_list = [\"\", \"-l0_99\", \"-l0_9\", \"-l0_75\", \"-l0_5\", \"-l0_25\", \"-l0_1\", \"-l0_01\", \"-l0_0\"]\n",
    "# lambda_list = [\"-l0_01\"]\n",
    "compare_type = \"compare-mu-l0_01\"\n",
    "# mu_list = [\"-m0_99\", \"-m0_9\", \"-m0_75\", \"-m0_5\", \"-m0_25\", \"-m0_1\", \"-m0_01\"]\n",
    "compare_type = \"compare-alpha-l0_01\"\n",
    "# lambda_list = [\"\"]\n",
    "# lambda_list = [\"-l0_5\"]\n",
    "lambda_list = [\"-l0_01\"]\n",
    "# alpha_list = [\"1_0\", \"0_99\", \"0_95\", \"0_9\", \"0_75\", \"0_5\", \"0_25\", \"0_1\", \"0_01\"]\n",
    "compare_type = \"compare-alpha-eps-l0_01\"\n",
    "alpha_list = [\"0_95\", \"0_9\"]\n",
    "maxi_list = [\"-eps0_0001-maxi1000\", \"-eps1e-05-maxi1000\", \"-eps1e-06-maxi1000\"]"
   ]
  },
  {
   "cell_type": "code",
   "execution_count": 64,
   "metadata": {},
   "outputs": [
    {
     "name": "stdout",
     "output_type": "stream",
     "text": [
      "('2018_06-seq-sim-e0_1-string', 'expc-rem-neg-comp-iea', '-core', '', 'bp')\n",
      "(10, 5000)\n",
      "\tusing splits for each individual species\n",
      "Getting annotation counts per species\n",
      "Getting annotation counts per species\n",
      "Getting annotation counts per species\n"
     ]
    }
   ],
   "source": [
    "# now get the results\n",
    "ev_code_results = {}\n",
    "df_all = None\n",
    "for ev_codes, eval_ev_codes, keep_ann, h in ev_code_list:\n",
    "    with_neg = '-use-neg'\n",
    "#     with_neg = '-non-pos-neg'\n",
    "    split_overall = False\n",
    "    ss_alpha = \"0_95\"\n",
    "    # use this to select which max iters to use for SS\n",
    "    # unfortunately, I kept the eps and maxi (20) in the file name for GM and Local+ even though they aren't used\n",
    "    ss_maxi = \"-eps0_0-maxi10\"\n",
    "    exp_names = [\"%s-50-1000%s-%s%s%s\" % (ev_codes, eval_ev_codes, h, with_neg, keep_ann)]\n",
    "    sort_taxon_by_fmax = {}\n",
    "    for version in versions:\n",
    "        print(version, ev_codes, eval_ev_codes, keep_ann, h)\n",
    "        # wasn't conistent with dashes\n",
    "        eval_str = \"-\"+eval_ev_codes if len(eval_ev_codes) > 1 and eval_ev_codes[0] != \"-\" else eval_ev_codes\n",
    "        out_dir = \"outputs/viz/eval-loso/%s%s/%s\" % (ev_codes, eval_str, version)\n",
    "        utils.checkDir(out_dir)\n",
    "        unweighted = ''\n",
    "        if 'string' in version:\n",
    "            unweighted = \"goterm-weight-\"\n",
    "        df_all = get_results(version, exp_names, algorithms, unweighted=unweighted,\n",
    "                            alpha_list=alpha_list, theta_list=theta_list, mu_list=mu_list, lambda_list=lambda_list,\n",
    "                            ss_alpha=ss_alpha, exp_type=exp_type, maxi_list=maxi_list, ss_maxi=ss_maxi, \n",
    "                            tol_list=[\"\", \"-tol1e-05\"],\n",
    "                             )\n",
    "#                              verbose=True)     \n",
    "\n",
    "        if len(df_all) == 0:\n",
    "            print(\"WARNING: no results found\")\n",
    "            continue        \n",
    "        elif df_all.dtypes['# ann'] != 'int':\n",
    "            print(\"WARNING: df contains incorrect datatypes. Please correct before continuing.\")\n",
    "            break\n",
    "        cutoffs = [(10,5000)]\n",
    "        overall_goid_prots = None\n",
    "        cutoffs_data = split_results_by_cutoffs(df_all, cutoffs, exp_goid_prots, comp_goid_prots, iea_goid_prots, overall_goid_prots=overall_goid_prots)\n",
    "        # store this for later\n",
    "        ev_code_results[(version, ev_codes, eval_ev_codes, keep_ann, h)] = (cutoffs_data, out_dir)"
   ]
  },
  {
   "cell_type": "code",
   "execution_count": 65,
   "metadata": {},
   "outputs": [
    {
     "name": "stdout",
     "output_type": "stream",
     "text": [
      "('2018_06-seq-sim-e0_1-string', 'expc-rem-neg-comp-iea', '-core', '', 'bp')\n",
      "\tbirgrank a0_9-t0_5-m0_5-l0_01-eps0_0001-maxi1000: 0.471 \t\t(787 sp-goterm pairs)\n",
      "\tbirgrank a0_9-t0_5-m0_5-l0_01-eps1e-05-maxi1000: 0.471 \t\t(787 sp-goterm pairs)\n",
      "\tbirgrank a0_9-t0_5-m0_5-l0_01-eps1e-06-maxi1000: 0.471 \t\t(787 sp-goterm pairs)\n",
      "\tbirgrank a0_95-t0_5-m0_5-l0_01-eps0_0001-maxi1000: 0.474 \t\t(787 sp-goterm pairs)\n",
      "\tbirgrank a0_95-t0_5-m0_5-l0_01-eps1e-05-maxi1000: 0.474 \t\t(787 sp-goterm pairs)\n",
      "\tbirgrank a0_95-t0_5-m0_5-l0_01-eps1e-06-maxi1000: 0.474 \t\t(787 sp-goterm pairs)\n"
     ]
    }
   ],
   "source": [
    "# use this to get the exact value of the median\n",
    "# and test to see if each experiment has the same # of species - goterm pairs\n",
    "for version, ev_codes, eval_ev_codes, keep_ann, h in sorted(ev_code_results, key=lambda x: (x[4], x[1], x[2], x[0])):\n",
    "    cutoffs_data, out_dir = ev_code_results[(version, ev_codes, eval_ev_codes, keep_ann, h)]\n",
    "    for df_curr, _,_,_ in cutoffs_data:\n",
    "#         if h != \"bp\":\n",
    "#             continue\n",
    "        print(version, ev_codes, eval_ev_codes, keep_ann, h)\n",
    "        # limit the goterms to those that are also present for SinkSource(?)\n",
    "        for measure in measures:\n",
    "#             print(\"measure: %s\" % (measure))\n",
    "            for alg in sorted(df_curr['Algorithm'].unique()):\n",
    "                print(\"\\t%s: %0.3f \\t\\t(%d sp-goterm pairs)\" % (alg, df_curr[df_curr['Algorithm'] == alg][measure].median(), len(df_curr[df_curr['Algorithm'] == alg][measure])))"
   ]
  },
  {
   "cell_type": "markdown",
   "metadata": {},
   "source": [
    "# Compare Distributions\n",
    "\n",
    "Compare the distributions of scores when changing the birgrank parameters"
   ]
  },
  {
   "cell_type": "code",
   "execution_count": 39,
   "metadata": {},
   "outputs": [
    {
     "data": {
      "text/html": [
       "<div>\n",
       "<style scoped>\n",
       "    .dataframe tbody tr th:only-of-type {\n",
       "        vertical-align: middle;\n",
       "    }\n",
       "\n",
       "    .dataframe tbody tr th {\n",
       "        vertical-align: top;\n",
       "    }\n",
       "\n",
       "    .dataframe thead th {\n",
       "        text-align: right;\n",
       "    }\n",
       "</style>\n",
       "<table border=\"1\" class=\"dataframe\">\n",
       "  <thead>\n",
       "    <tr style=\"text-align: right;\">\n",
       "      <th></th>\n",
       "      <th>#taxon</th>\n",
       "      <th>goid</th>\n",
       "      <th>fmax</th>\n",
       "      <th>avgp</th>\n",
       "      <th>auprc</th>\n",
       "      <th>auroc</th>\n",
       "      <th># ann</th>\n",
       "      <th>Algorithm</th>\n",
       "    </tr>\n",
       "  </thead>\n",
       "  <tbody>\n",
       "    <tr>\n",
       "      <th>0</th>\n",
       "      <td>208964</td>\n",
       "      <td>GO:0016043</td>\n",
       "      <td>0.1003</td>\n",
       "      <td>0.0444</td>\n",
       "      <td>0.0576</td>\n",
       "      <td>0.3728</td>\n",
       "      <td>36</td>\n",
       "      <td>birgrank a0_99-t0_5-m0_5-l0_01</td>\n",
       "    </tr>\n",
       "    <tr>\n",
       "      <th>1</th>\n",
       "      <td>208964</td>\n",
       "      <td>GO:0071840</td>\n",
       "      <td>0.0997</td>\n",
       "      <td>0.0332</td>\n",
       "      <td>0.0464</td>\n",
       "      <td>0.3275</td>\n",
       "      <td>36</td>\n",
       "      <td>birgrank a0_99-t0_5-m0_5-l0_01</td>\n",
       "    </tr>\n",
       "    <tr>\n",
       "      <th>2</th>\n",
       "      <td>208964</td>\n",
       "      <td>GO:0022607</td>\n",
       "      <td>0.0968</td>\n",
       "      <td>0.0477</td>\n",
       "      <td>0.0663</td>\n",
       "      <td>0.5908</td>\n",
       "      <td>26</td>\n",
       "      <td>birgrank a0_99-t0_5-m0_5-l0_01</td>\n",
       "    </tr>\n",
       "    <tr>\n",
       "      <th>3</th>\n",
       "      <td>208964</td>\n",
       "      <td>GO:0044764</td>\n",
       "      <td>0.1600</td>\n",
       "      <td>0.0728</td>\n",
       "      <td>0.0812</td>\n",
       "      <td>0.5110</td>\n",
       "      <td>55</td>\n",
       "      <td>birgrank a0_99-t0_5-m0_5-l0_01</td>\n",
       "    </tr>\n",
       "    <tr>\n",
       "      <th>4</th>\n",
       "      <td>208964</td>\n",
       "      <td>GO:0006928</td>\n",
       "      <td>0.1786</td>\n",
       "      <td>0.1589</td>\n",
       "      <td>0.1688</td>\n",
       "      <td>0.5000</td>\n",
       "      <td>47</td>\n",
       "      <td>birgrank a0_99-t0_5-m0_5-l0_01</td>\n",
       "    </tr>\n",
       "  </tbody>\n",
       "</table>\n",
       "</div>"
      ],
      "text/plain": [
       "   #taxon        goid    fmax    avgp   auprc   auroc  # ann  \\\n",
       "0  208964  GO:0016043  0.1003  0.0444  0.0576  0.3728     36   \n",
       "1  208964  GO:0071840  0.0997  0.0332  0.0464  0.3275     36   \n",
       "2  208964  GO:0022607  0.0968  0.0477  0.0663  0.5908     26   \n",
       "3  208964  GO:0044764  0.1600  0.0728  0.0812  0.5110     55   \n",
       "4  208964  GO:0006928  0.1786  0.1589  0.1688  0.5000     47   \n",
       "\n",
       "                        Algorithm  \n",
       "0  birgrank a0_99-t0_5-m0_5-l0_01  \n",
       "1  birgrank a0_99-t0_5-m0_5-l0_01  \n",
       "2  birgrank a0_99-t0_5-m0_5-l0_01  \n",
       "3  birgrank a0_99-t0_5-m0_5-l0_01  \n",
       "4  birgrank a0_99-t0_5-m0_5-l0_01  "
      ]
     },
     "execution_count": 39,
     "metadata": {},
     "output_type": "execute_result"
    }
   ],
   "source": [
    "df = df_curr\n",
    "df.head()"
   ]
  },
  {
   "cell_type": "code",
   "execution_count": 40,
   "metadata": {},
   "outputs": [
    {
     "name": "stdout",
     "output_type": "stream",
     "text": [
      "Writing to outputs/viz/eval-loso/expc-rem-neg-comp-iea-core/2018_06-seq-sim-e0_1-string/birgrank/10-1000-bp-compare-alpha-l0_01.pdf\n"
     ]
    },
    {
     "data": {
      "image/png": "[encoded data removed]",
      "text/plain": [
       "<matplotlib.figure.Figure at 0x7fb64faa0a90>"
      ]
     },
     "metadata": {},
     "output_type": "display_data"
    }
   ],
   "source": [
    "fig, ax = plt.subplots(figsize=(6,4))\n",
    "# sns.boxplot(data=df, orient=\"h\", order=max_iters_list, palette=\"Set2\", ax=ax)\n",
    "sns.boxplot(x=\"fmax\", y=\"Algorithm\", data=df, orient=\"h\", palette=\"Set2\", ax=ax)\n",
    "plt.xlabel(r'F$_{\\mathrm{max}}$', fontsize=12, fontweight='bold')\n",
    "# plt.ylabel('# Iterations', fontsize=12, fontweight='bold')\n",
    "plt.title(\"LOSO comparing BirgRank params \\n %s \\n %s - %d GO terms\" % (\n",
    "    version, ev_codes, len(df['goid'].unique())))\n",
    "plt.tight_layout()\n",
    "\n",
    "out_file = \"outputs/viz/eval-loso/%s/%s/birgrank/10-1000-%s-%s.pdf\" % (\n",
    "    \"%s%s\" % (ev_codes, eval_ev_codes), versions[0], h, compare_type)\n",
    "utils.checkDir(os.path.dirname(out_file))\n",
    "print(\"Writing to %s\" % (out_file))\n",
    "plt.savefig(out_file)\n",
    "plt.show()\n",
    "plt.close()\n",
    "\n",
    "# print(\"medians: %s\" % (', '.join([\"%s: %0.2f\" % (str(a), df[a].median()) for a in df.columns])))"
   ]
  },
  {
   "cell_type": "code",
   "execution_count": 86,
   "metadata": {},
   "outputs": [],
   "source": [
    "# now make a line plot of all of the values\n",
    "def plot_fmax_med(df, out_file=None, xlabel='', ylabel='', title='', version_order=None):\n",
    "    fig, ax = plt.subplots()\n",
    "    ax = sns.pointplot(x='Algorithm', y='fmax', data=df, \n",
    "#                        orient='h',\n",
    "#                  order=version_order, \n",
    "#                     hue='Algorithm', data=df_curr, orient='h')\n",
    "#                    hue='Algorithm', hue_order=[alg_name[a] for a in algorithms],\n",
    "#                   palette=my_palette, \n",
    "#                        estimator=np.median,\n",
    "                       ci=None, \n",
    "#                        dodge=True, ci=95,\n",
    "                 )\n",
    "    plt.setp(ax.lines,linewidth=1)  # set lw for all lines of g axes\n",
    "\n",
    "    if version_order is not None:\n",
    "        ax.set_xticklabels([version_name[v] for v in version_order])\n",
    "    ax.set_xlabel(xlabel)\n",
    "    ax.set_ylabel(ylabel)\n",
    "    ax.set_ylim(0.3, 0.625)\n",
    "    plt.title(title)\n",
    "#     plt.xticks(rotation=45)\n",
    "    if out_file is not None:\n",
    "        print(\"Writing to %s\" % (out_file))\n",
    "        plt.savefig(out_file)\n",
    "    plt.show()\n",
    "    plt.close()"
   ]
  },
  {
   "cell_type": "code",
   "execution_count": 87,
   "metadata": {},
   "outputs": [
    {
     "name": "stdout",
     "output_type": "stream",
     "text": [
      "Writing to outputs/viz/eval-loso/expc-rem-neg-comp-iea-core/2018_06-seq-sim-e0_1-string/birgrank/10-1000-bp-compare-lambda.pdf\n"
     ]
    },
    {
     "data": {
      "image/png": "[encoded data removed]",
      "text/plain": [
       "<matplotlib.figure.Figure at 0x7fd726411490>"
      ]
     },
     "metadata": {},
     "output_type": "display_data"
    }
   ],
   "source": [
    "xlabel = r'F$_{\\mathrm{max}}$'\n",
    "# plt.ylabel('# Iterations', fontsize=12, fontweight='bold')\n",
    "title = \"LOSO comparing BirgRank params \\n %s \\n %s - %d GO terms\" % (\n",
    "    version, ev_codes, len(df['goid'].unique()))\n",
    "# plt.tight_layout()\n",
    "\n",
    "out_file = \"outputs/viz/eval-loso/%s/%s/birgrank/10-1000-%s-%s.pdf\" % (\n",
    "    \"%s%s\" % (ev_codes, eval_ev_codes), versions[0], h, compare_type)\n",
    "utils.checkDir(os.path.dirname(out_file))\n",
    "\n",
    "plot_fmax_med(df, out_file=out_file, xlabel=xlabel, ylabel='Median Fmax', title=title)"
   ]
  },
  {
   "cell_type": "markdown",
   "metadata": {},
   "source": [
    "## Summary Table\n",
    "For every species, compare the median fmax distribution to each algorithm from SinkSource."
   ]
  },
  {
   "cell_type": "code",
   "execution_count": 101,
   "metadata": {},
   "outputs": [],
   "source": [
    "# make a table of median and median absolute deviation\n",
    "# here's a quick function for median absolute deviation\n",
    "def mad(x):\n",
    "    med = np.median(x)\n",
    "    return np.median(np.abs(x - med))"
   ]
  },
  {
   "cell_type": "code",
   "execution_count": 161,
   "metadata": {},
   "outputs": [
    {
     "name": "stdout",
     "output_type": "stream",
     "text": [
      "['272620', '632', '85962', '333849', '208964', '509170', '243277', '83332', '83333', '71421', '257313', '441771', '301447', '300267', '99287', '93061', '272563', '269482', '242231']\n"
     ]
    }
   ],
   "source": [
    "# check the status of the 19 species in the 200 species results\n",
    "selected_species_19 = utils.readDict(f_settings.VERSION_SELECTED_STRAINS[\"2018_06-seq-sim-e0_1\"], 1, 2)\n",
    "print(selected_species_19.keys())"
   ]
  },
  {
   "cell_type": "code",
   "execution_count": 172,
   "metadata": {},
   "outputs": [
    {
     "name": "stdout",
     "output_type": "stream",
     "text": [
      "('2018_09-s200-seq-sim-e0_1', 'expc-comp-rem-neg-iea', 'iea', '', 'bp', '200 species')\n",
      "defaultdict(<type 'int'>, {'SinkSource': 185, 'sinksource a1_0 -eps0_0-maxi1000': '-', 'sinksource a1_0 -eps0_0-maxi10': 184, 'sinksource a0_95 -eps0_0-maxi20': 176, 'sinksource a0_95 -eps0_0-maxi200': 120, 'sinksource a0_95 -eps0_0-maxi50': 136})\n",
      "Algorithm\tMedian Fmax\tMAD Fmax\t # Sig. Sp. (out of 200)\n",
      "SinkSource\t0.743\t0.09\t185\n",
      "sinksource a0_95 -eps0_0-maxi20\t0.750\t0.09\t176\n",
      "sinksource a0_95 -eps0_0-maxi200\t0.757\t0.09\t120\n",
      "sinksource a0_95 -eps0_0-maxi50\t0.756\t0.09\t136\n",
      "sinksource a1_0 -eps0_0-maxi10\t0.744\t0.09\t184\n",
      "sinksource a1_0 -eps0_0-maxi1000\t0.793\t0.09\t-\n"
     ]
    }
   ],
   "source": [
    "# get the # of species for which SS is statistically improved over the other methods\n",
    "curr_h = 'bp'\n",
    "# curr_h = 'mf'\n",
    "eval_name = {\"comp\": \"COMP\", \"iea\": \"ELEC\"}\n",
    "for version, ev_codes, eval_ev_codes, keep_ann, h in sorted(ev_code_results):\n",
    "    if h != curr_h:\n",
    "        continue\n",
    "    cutoffs_data, out_dir = ev_code_results[(version, ev_codes, eval_ev_codes, keep_ann, h)]\n",
    "    df_curr, _, _, _ = cutoffs_data[0]\n",
    "    curr_species = df_curr['#taxon'].unique()\n",
    "    print(version, ev_codes, eval_ev_codes, keep_ann, h, \"%d species\" % (len(curr_species)))\n",
    "    \n",
    "    # key is the algorithm being compared to sinksource, and value is the # of corrected p-values < 0.05\n",
    "    alg_pvals = defaultdict(int)\n",
    "#     alg1 = 'sinksource a1_0 -eps0_0001-maxi1000'\n",
    "    alg1 = 'sinksource a1_0 -eps0_0-maxi1000'\n",
    "#     alg1 = \"sinksource a0_95 -eps0_0-maxi200\"\n",
    "#     for alg2 in sorted([a for a in algorithms if a != alg1]):\n",
    "    for alg2 in sorted(df_curr['Algorithm'].unique()):\n",
    "#     for alg2 in [\"SinkSource\"]:\n",
    "        if alg1 == alg2:\n",
    "            alg_pvals[alg1] = '-'\n",
    "        for s in curr_species:\n",
    "#             name = f_settings.NAME_TO_SHORTNAME2.get(selected_species[str(s)],'-')\n",
    "            df_s = df_curr[df_curr['#taxon'] == s]\n",
    "            a1_fmax = df_s[df_s['Algorithm'] == alg_name.get(alg1, alg1)][measure]\n",
    "            a2_fmax = df_s[df_s['Algorithm'] == alg_name.get(alg2, alg2)][measure]\n",
    "            try:\n",
    "                test_statistic, pval = mannwhitneyu(a1_fmax, a2_fmax, alternative='greater') \n",
    "#                 print(alg2, pval)\n",
    "                if pval*len(curr_species) < 0.05:\n",
    "                    alg_pvals[alg2] += 1\n",
    "#                 if str(s) in selected_species_19:\n",
    "#                     print(\"%s (%s): %s\" % (s, selected_species_19[str(s)], pval*len(curr_species)))\n",
    "#                 line = \"%s\\t%s\\t%s\\t%0.2e\\t%0.2e\" % (name, alg1, alg2, pval, pval*len(curr_species))\n",
    "            except ValueError:\n",
    "                pass\n",
    "            \n",
    "    print(alg_pvals)\n",
    "    # alg, median fmax, MAD, # species for which SS is statisically significant \n",
    "    table = [\"Algorithm\\tMedian Fmax\\tMAD Fmax\\t # Sig. Sp. (out of %d)\" % (len(curr_species))]\n",
    "    for alg in sorted(df_curr['Algorithm'].unique()):\n",
    "        x = df_curr[df_curr['Algorithm'] == alg_name.get(alg, alg)][measure]\n",
    "        table.append(\"%s\\t%0.3f\\t%0.2f\\t%s\" % (alg_name.get(alg, alg), x.median(), mad(x), alg_pvals[alg]))\n",
    "#             cutoff_sig[(cutoff1, cutoff2)][s] = pval\n",
    "#             out_str += line+'\\n'\n",
    "    print('\\n'.join(table))"
   ]
  },
  {
   "cell_type": "code",
   "execution_count": null,
   "metadata": {},
   "outputs": [],
   "source": []
  }
 ],
 "metadata": {
  "kernelspec": {
   "display_name": "Python 2",
   "language": "python",
   "name": "python2"
  },
  "language_info": {
   "codemirror_mode": {
    "name": "ipython",
    "version": 2
   },
   "file_extension": ".py",
   "mimetype": "text/x-python",
   "name": "python",
   "nbconvert_exporter": "python",
   "pygments_lexer": "ipython2",
   "version": "2.7.12"
  }
 },
 "nbformat": 4,
 "nbformat_minor": 2
}
