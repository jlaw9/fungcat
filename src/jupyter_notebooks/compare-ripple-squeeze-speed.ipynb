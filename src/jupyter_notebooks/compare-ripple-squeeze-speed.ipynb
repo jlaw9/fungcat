{
 "cells": [
  {
   "cell_type": "markdown",
   "metadata": {},
   "source": [
    "Quick notebook to get plots for how much faster ripple is than squeeze"
   ]
  },
  {
   "cell_type": "code",
   "execution_count": 65,
   "metadata": {},
   "outputs": [],
   "source": [
    "from collections import defaultdict\n",
    "import os\n",
    "import sys \n",
    "from tqdm import tqdm\n",
    "import itertools\n",
    "sys.path.append(\"/data/jeff-law/projects/fungcat-function-prediction/src\")\n",
    "import utils.file_utils as utils\n",
    "#sys.path.append(os.path.dirname(os.path.dirname(os.path.dirname(os.path.abspath(__file__)))))\n",
    "import fungcat_settings as f_settings\n",
    "import matplotlib.pyplot as plt\n",
    "import pandas as pd\n",
    "import seaborn as sns\n",
    "import numpy as np\n",
    "from scipy.stats import describe"
   ]
  },
  {
   "cell_type": "code",
   "execution_count": 2,
   "metadata": {},
   "outputs": [],
   "source": [
    "os.chdir(\"../..\")"
   ]
  },
  {
   "cell_type": "code",
   "execution_count": 3,
   "metadata": {},
   "outputs": [
    {
     "data": {
      "text/plain": [
       "'/data/jeff-law/projects/fungcat-function-prediction'"
      ]
     },
     "execution_count": 3,
     "metadata": {},
     "output_type": "execute_result"
    }
   ],
   "source": [
    "os.getcwd()"
   ]
  },
  {
   "cell_type": "code",
   "execution_count": null,
   "metadata": {},
   "outputs": [],
   "source": [
    "# this was the command I used to generate the results\n",
    "# source the python environment first\n",
    "#!source py3env/bin/activate\n",
    "!python src/algorithms/gain-scipy/run_algs.py --version 2017_10-seq-sim  --exp-name rem-neg-iea-40-50 --pos-neg-file inputs/pos-neg/rem-neg-iea/rem-neg-iea-pos-neg-bp-10-list.tsv --pos-neg-file inputs/pos-neg/rem-neg-iea/rem-neg-iea-pos-neg-mf-10-list.tsv --only-functions inputs/only-functions/rem-neg-iea/rem-neg-iea-40-50.txt -A sinksourceplus-ripple  -A sinksourceplus-squeeze -a 0.8 --forcealg --num-pred-to-write 0 --epsUB 0.01\n",
    "# I dont' have a command line option yet for running with the submatrix.\n",
    "# I just comment out the line in sinksource_ripple.py\n",
    "# I might just fix it to be if the # positives is small enough (< 50 or something)\n",
    "#!python src/algorithms/gain-scipy/run_algs.py --version 2017_10-seq-sim  --exp-name rem-neg-iea-40-50-full --pos-neg-file inputs/pos-neg/rem-neg-iea/rem-neg-iea-pos-neg-bp-10-list.tsv --pos-neg-file inputs/pos-neg/rem-neg-iea/rem-neg-iea-pos-neg-mf-10-list.tsv --only-functions inputs/only-functions/rem-neg-iea/rem-neg-iea-40-50.txt -A sinksourceplus-ripple  -A sinksourceplus-squeeze -a 0.8 --forcealg --num-pred-to-write 0 --epsUB 0.01"
   ]
  },
  {
   "cell_type": "code",
   "execution_count": 77,
   "metadata": {},
   "outputs": [
    {
     "name": "stdout",
     "output_type": "stream",
     "text": [
      "             # pos         # unk             a       k    epsUB         time  \\\n",
      "count  2342.000000   2342.000000  2.342000e+03  2342.0  2342.00  2342.000000   \n",
      "mean     22.489325  36687.242528  8.000000e-01   200.0     0.01     0.436544   \n",
      "std      10.366732   2618.916415  2.220920e-16     0.0     0.00     0.331950   \n",
      "min      10.000000    205.000000  8.000000e-01   200.0     0.01     0.002000   \n",
      "25%      14.000000  36765.250000  8.000000e-01   200.0     0.01     0.268000   \n",
      "50%      20.000000  36820.000000  8.000000e-01   200.0     0.01     0.320000   \n",
      "75%      29.000000  36938.000000  8.000000e-01   200.0     0.01     0.404750   \n",
      "max      49.000000  37647.000000  8.000000e-01   200.0     0.01     2.570000   \n",
      "\n",
      "       update-time        iters        # comp         len_N  \n",
      "count  2342.000000  2342.000000  2.342000e+03   2342.000000  \n",
      "mean      0.106814    16.490606  6.655107e+07  21114.073442  \n",
      "std       0.091332     8.510598  5.279462e+07  15723.613683  \n",
      "min       0.000500     4.000000  3.730000e+04    205.000000  \n",
      "25%       0.010000     8.000000  8.862500e+06   5711.250000  \n",
      "50%       0.063000    14.500000  5.610000e+07   8533.000000  \n",
      "75%       0.198000    25.000000  1.190000e+08  36819.750000  \n",
      "max       0.280000    27.000000  1.290000e+08  37647.000000  \n"
     ]
    },
    {
     "data": {
      "text/html": [
       "<div>\n",
       "<style scoped>\n",
       "    .dataframe tbody tr th:only-of-type {\n",
       "        vertical-align: middle;\n",
       "    }\n",
       "\n",
       "    .dataframe tbody tr th {\n",
       "        vertical-align: top;\n",
       "    }\n",
       "\n",
       "    .dataframe thead th {\n",
       "        text-align: right;\n",
       "    }\n",
       "</style>\n",
       "<table border=\"1\" class=\"dataframe\">\n",
       "  <thead>\n",
       "    <tr style=\"text-align: right;\">\n",
       "      <th></th>\n",
       "      <th>alg</th>\n",
       "      <th>goterm</th>\n",
       "      <th># pos</th>\n",
       "      <th># unk</th>\n",
       "      <th>a</th>\n",
       "      <th>k</th>\n",
       "      <th>t</th>\n",
       "      <th>s</th>\n",
       "      <th>eps</th>\n",
       "      <th>epsUB</th>\n",
       "      <th>time</th>\n",
       "      <th>update-time</th>\n",
       "      <th>iters</th>\n",
       "      <th># comp</th>\n",
       "      <th>len_N</th>\n",
       "    </tr>\n",
       "  </thead>\n",
       "  <tbody>\n",
       "    <tr>\n",
       "      <th>0</th>\n",
       "      <td>sinksourceplus-ripple</td>\n",
       "      <td>GO:0000035</td>\n",
       "      <td>15</td>\n",
       "      <td>36742</td>\n",
       "      <td>0.8</td>\n",
       "      <td>200</td>\n",
       "      <td>2</td>\n",
       "      <td>200</td>\n",
       "      <td>-</td>\n",
       "      <td>0.01</td>\n",
       "      <td>0.159</td>\n",
       "      <td>0.002</td>\n",
       "      <td>8</td>\n",
       "      <td>2170000.0</td>\n",
       "      <td>3000</td>\n",
       "    </tr>\n",
       "    <tr>\n",
       "      <th>1270</th>\n",
       "      <td>sinksourceplus-squeeze</td>\n",
       "      <td>GO:0000035</td>\n",
       "      <td>15</td>\n",
       "      <td>36742</td>\n",
       "      <td>0.8</td>\n",
       "      <td>200</td>\n",
       "      <td>-</td>\n",
       "      <td>-</td>\n",
       "      <td>-</td>\n",
       "      <td>0.01</td>\n",
       "      <td>0.328</td>\n",
       "      <td>0.190</td>\n",
       "      <td>24</td>\n",
       "      <td>114000000.0</td>\n",
       "      <td>36742</td>\n",
       "    </tr>\n",
       "    <tr>\n",
       "      <th>1</th>\n",
       "      <td>sinksourceplus-ripple</td>\n",
       "      <td>GO:0000036</td>\n",
       "      <td>17</td>\n",
       "      <td>36740</td>\n",
       "      <td>0.8</td>\n",
       "      <td>200</td>\n",
       "      <td>2</td>\n",
       "      <td>200</td>\n",
       "      <td>-</td>\n",
       "      <td>0.01</td>\n",
       "      <td>0.253</td>\n",
       "      <td>0.005</td>\n",
       "      <td>8</td>\n",
       "      <td>5170000.0</td>\n",
       "      <td>5623</td>\n",
       "    </tr>\n",
       "    <tr>\n",
       "      <th>1271</th>\n",
       "      <td>sinksourceplus-squeeze</td>\n",
       "      <td>GO:0000036</td>\n",
       "      <td>17</td>\n",
       "      <td>36740</td>\n",
       "      <td>0.8</td>\n",
       "      <td>200</td>\n",
       "      <td>-</td>\n",
       "      <td>-</td>\n",
       "      <td>-</td>\n",
       "      <td>0.01</td>\n",
       "      <td>0.343</td>\n",
       "      <td>0.213</td>\n",
       "      <td>27</td>\n",
       "      <td>128000000.0</td>\n",
       "      <td>36740</td>\n",
       "    </tr>\n",
       "    <tr>\n",
       "      <th>2</th>\n",
       "      <td>sinksourceplus-ripple</td>\n",
       "      <td>GO:0000049</td>\n",
       "      <td>33</td>\n",
       "      <td>36835</td>\n",
       "      <td>0.8</td>\n",
       "      <td>200</td>\n",
       "      <td>2</td>\n",
       "      <td>200</td>\n",
       "      <td>-</td>\n",
       "      <td>0.01</td>\n",
       "      <td>0.158</td>\n",
       "      <td>0.002</td>\n",
       "      <td>8</td>\n",
       "      <td>2040000.0</td>\n",
       "      <td>5041</td>\n",
       "    </tr>\n",
       "  </tbody>\n",
       "</table>\n",
       "</div>"
      ],
      "text/plain": [
       "                         alg      goterm  # pos  # unk    a    k  t    s eps  \\\n",
       "0      sinksourceplus-ripple  GO:0000035     15  36742  0.8  200  2  200   -   \n",
       "1270  sinksourceplus-squeeze  GO:0000035     15  36742  0.8  200  -    -   -   \n",
       "1      sinksourceplus-ripple  GO:0000036     17  36740  0.8  200  2  200   -   \n",
       "1271  sinksourceplus-squeeze  GO:0000036     17  36740  0.8  200  -    -   -   \n",
       "2      sinksourceplus-ripple  GO:0000049     33  36835  0.8  200  2  200   -   \n",
       "\n",
       "      epsUB   time  update-time  iters       # comp  len_N  \n",
       "0      0.01  0.159        0.002      8    2170000.0   3000  \n",
       "1270   0.01  0.328        0.190     24  114000000.0  36742  \n",
       "1      0.01  0.253        0.005      8    5170000.0   5623  \n",
       "1271   0.01  0.343        0.213     27  128000000.0  36740  \n",
       "2      0.01  0.158        0.002      8    2040000.0   5041  "
      ]
     },
     "execution_count": 77,
     "metadata": {},
     "output_type": "execute_result"
    }
   ],
   "source": [
    "# load the results table\n",
    "out_dir = \"outputs/viz/params-results\"\n",
    "# exp_name = \"rem-neg-iea-40-50\"\n",
    "# exp_name = \"rem-neg-iea-40-50-full\"\n",
    "exp_name = \"rem-neg-iea-10-50-submatrix\"\n",
    "version = \"2017_10-seq-sim\"\n",
    "results_file = \"%s/%s-%s-params-results.tsv\" % (out_dir, exp_name, version)\n",
    "df = pd.read_csv(results_file, sep='\\t')\n",
    "# sort it by the GO term to make sure the ripple and squeeze comparison is aligned\n",
    "df = df.sort_values(['goterm', 'alg'])\n",
    "# also remove goterms with a time of 0\n",
    "df = df[df.time != 0]\n",
    "# TODO I need to write more decimal places\n",
    "df.loc[df['update-time'] == 0, 'update-time'] = 0.0005\n",
    "print(df.describe())\n",
    "df.head()"
   ]
  },
  {
   "cell_type": "code",
   "execution_count": 98,
   "metadata": {},
   "outputs": [],
   "source": [
    "def plot_hist(s, s2=None, out_file=None, title='', xlabel='', ylabel='', xlabel2='', ylabel2=''):\n",
    "    if s2 is None:    \n",
    "        fig, ax = plt.subplots()\n",
    "        s.hist()\n",
    "        plt.xlabel(xlabel)\n",
    "        plt.ylabel(ylabel)\n",
    "    else:\n",
    "        fix, (ax1, ax2) = plt.subplots(2, figsize=(6,7))\n",
    "        s.hist(ax=ax1)\n",
    "        s2.hist(ax=ax2, bins=30)\n",
    "        ax1.set_xlabel(xlabel)\n",
    "        ax1.set_ylabel(ylabel)\n",
    "        ax2.set_xlabel(xlabel2)\n",
    "        ax2.set_ylabel(ylabel2)\n",
    "        \n",
    "    plt.suptitle(title)\n",
    "#     plt.tight_layout()\n",
    "    if out_file is not None:\n",
    "        print(\"writing figure to %s\" % (out_file))\n",
    "        plt.savefig(out_file)\n",
    "    plt.show()\n",
    "    plt.close()"
   ]
  },
  {
   "cell_type": "code",
   "execution_count": 89,
   "metadata": {},
   "outputs": [
    {
     "name": "stdout",
     "output_type": "stream",
     "text": [
      "[2.06289308 1.35573123 2.03164557 ... 0.62445415 0.33111702 0.73595506]\n",
      "[52.53456221 24.7582205  62.74509804 ... 11.06796117  5.25252525\n",
      " 13.54037267]\n",
      "DescribeResult(nobs=1171, minmax=(0.08333333333333333, 6.745454545454545), mean=1.0552901795726515, variance=0.9333029262616995, skewness=2.013058152441401, kurtosis=5.655303359544504)\n",
      "DescribeResult(nobs=1171, minmax=(1.5083333333333333, 3056.3002680965146), mean=54.69815065334711, variance=39642.70452516477, skewness=8.584458201233565, kurtosis=87.9581812166626)\n"
     ]
    }
   ],
   "source": [
    "# plot a histogram of the factor improvement of ss-ripple over ss-squeeze\n",
    "# comparison = 'update-time'\n",
    "# col = comparison\n",
    "comparison = 'num_comp'\n",
    "col = '# comp'\n",
    "squeeze_time = df[df['alg'].isin(['sinksourceplus-squeeze'])]['time']\n",
    "# if there are multiple ripple runs, then groupby the algorithm and take the max\n",
    "ripple_time = df[df['alg'].isin(['sinksourceplus-ripple'])]['time']\n",
    "total_factor_improvement = np.asarray(squeeze_time) / np.asarray(ripple_time)\n",
    "squeeze_time = df[df['alg'].isin(['sinksourceplus-squeeze'])][col]\n",
    "# if there are multiple ripple runs, then groupby the algorithm and take the max\n",
    "ripple_time = df[df['alg'].isin(['sinksourceplus-ripple'])][col]\n",
    "update_factor_improvement = np.asarray(squeeze_time) / np.asarray(ripple_time)\n",
    "print(total_factor_improvement)\n",
    "print(update_factor_improvement)\n",
    "print(describe(total_factor_improvement))\n",
    "print(describe(update_factor_improvement))\n"
   ]
  },
  {
   "cell_type": "code",
   "execution_count": 101,
   "metadata": {},
   "outputs": [
    {
     "name": "stdout",
     "output_type": "stream",
     "text": [
      "writing figure to outputs/viz/params-results/rem-neg-iea-10-50-submatrix-2017_10-seq-sim-factor-improvement-num_comp.pdf\n"
     ]
    },
    {
     "data": {
      "image/png": "[encoded data removed]",
      "text/plain": [
       "<matplotlib.figure.Figure at 0x7f7587fd8c10>"
      ]
     },
     "metadata": {},
     "output_type": "display_data"
    }
   ],
   "source": [
    "out_file = \"%s/%s-%s-factor-improvement-%s.pdf\" % (out_dir, exp_name, version, comparison)\n",
    "s = pd.Series(update_factor_improvement)\n",
    "s = s[s < 500]\n",
    "plot_hist(pd.Series(total_factor_improvement), s, \n",
    "          out_file=out_file, title='Speed improvement of SS-Ripple over SS-Squeeze\\nGO terms with 10-50 annotations',\n",
    "          xlabel='Overall time factor improvement', xlabel2='# computations factor improvement',\n",
    "#           xlabel='Overall time factor improvement', xlabel2='%s factor improvement' % (col),\n",
    "          ylabel='Frequency', ylabel2='Frequency')"
   ]
  },
  {
   "cell_type": "code",
   "execution_count": null,
   "metadata": {},
   "outputs": [],
   "source": []
  }
 ],
 "metadata": {
  "kernelspec": {
   "display_name": "Python 2",
   "language": "python",
   "name": "python2"
  },
  "language_info": {
   "codemirror_mode": {
    "name": "ipython",
    "version": 2
   },
   "file_extension": ".py",
   "mimetype": "text/x-python",
   "name": "python",
   "nbconvert_exporter": "python",
   "pygments_lexer": "ipython2",
   "version": "2.7.12"
  }
 },
 "nbformat": 4,
 "nbformat_minor": 2
}
