{
 "cells": [
  {
   "cell_type": "code",
   "execution_count": 2,
   "metadata": {},
   "outputs": [],
   "source": [
    "from scipy import sparse\n",
    "from scipy.sparse import csr_matrix\n",
    "import numpy as np"
   ]
  },
  {
   "cell_type": "code",
   "execution_count": 6,
   "metadata": {},
   "outputs": [
    {
     "name": "stdout",
     "output_type": "stream",
     "text": [
      "10000\n",
      "(1000, 1000)\n"
     ]
    }
   ],
   "source": [
    "#np.random.rand(1000, 1000)\n",
    "A = sparse.rand(1000,1000).tocsr()\n",
    "#A = sparse.rand(60000,60000, density=0.001).tocsr()\n",
    "\n",
    "print(len(A.data))\n",
    "print(A.shape)"
   ]
  },
  {
   "cell_type": "code",
   "execution_count": 5,
   "metadata": {},
   "outputs": [
    {
     "name": "stdout",
     "output_type": "stream",
     "text": [
      "The slowest run took 4.44 times longer than the fastest. This could mean that an intermediate result is being cached.\n",
      "10000 loops, best of 3: 24.1 µs per loop\n",
      "1000 loops, best of 3: 726 µs per loop\n"
     ]
    }
   ],
   "source": [
    "%timeit A.getnnz(axis=0).nonzero()[0]\n",
    "%timeit set(A.nonzero()[1])"
   ]
  },
  {
   "cell_type": "markdown",
   "metadata": {},
   "source": [
    "this may be helpful:\n",
    "https://stackoverflow.com/questions/19784868/what-is-most-efficient-way-of-setting-row-to-zeros-for-a-sparse-scipy-matrix?noredirect=1&lq=1\n",
    "\n",
    "I may be able to set rows/cols to 0 instead of getting a submatrix. \n",
    "If I sorted the matrix by putting all of the nodes in N at the beginning, then I would just set everything else to 0\n",
    "Sorting the matrix could be expensive though..."
   ]
  },
  {
   "cell_type": "code",
   "execution_count": 58,
   "metadata": {},
   "outputs": [
    {
     "name": "stdout",
     "output_type": "stream",
     "text": [
      "[ 18.  74. 229. ... 330. 445. 615.]\n",
      "10000\n"
     ]
    }
   ],
   "source": [
    "def get_neighbors(A):\n",
    "    #neighbors = np.arange(0,A.shape[0])\n",
    "    all_neighbors = np.array([])\n",
    "    for n in range(0,A.shape[0]):\n",
    "#         neighbors[n] = A.indices[A.indptr[n]:A.indptr[n+1]]\n",
    "        neighbors = A.indices[A.indptr[n]:A.indptr[n+1]]\n",
    "        all_neighbors = np.append(all_neighbors, neighbors)\n",
    "    return all_neighbors\n",
    "      \n",
    "neighbors = get_neighbors(A)\n",
    "print(neighbors)\n",
    "print(len(neighbors))\n",
    "#%timeit get_neighbors(A)"
   ]
  },
  {
   "cell_type": "code",
   "execution_count": 59,
   "metadata": {},
   "outputs": [],
   "source": [
    "Al = A.tolil()"
   ]
  },
  {
   "cell_type": "code",
   "execution_count": 61,
   "metadata": {},
   "outputs": [
    {
     "name": "stdout",
     "output_type": "stream",
     "text": [
      "1 loop, best of 3: 163 ms per loop\n"
     ]
    }
   ],
   "source": [
    "#Al.nonzero()\n",
    "def get_neighbors2(Al):\n",
    "    all_neighbors = np.array([])\n",
    "    for n in range(0,A.shape[0]):\n",
    "        np.append(all_neighbors, Al.getrowview(n).nonzero()[1])\n",
    "    return all_neighbors\n",
    "        \n",
    "%timeit get_neighbors2(Al)\n",
    "# neighbors = get_neighbors(A)\n",
    "# print(len(all_neighbors))\n",
    "# print(len(all_neighbors[0]))"
   ]
  },
  {
   "cell_type": "code",
   "execution_count": 107,
   "metadata": {},
   "outputs": [
    {
     "name": "stdout",
     "output_type": "stream",
     "text": [
      "100 loops, best of 3: 4.16 ms per loop\n",
      "100 loops, best of 3: 5.71 ms per loop\n"
     ]
    }
   ],
   "source": [
    "def get_neighbors3(Al):\n",
    "    all_neighbors = [[] for k in range(Al.shape[0])]\n",
    "    rows, cols = Al.nonzero()\n",
    "    for i in range(len(rows)):\n",
    "        all_neighbors[rows[i]].append(cols[i])\n",
    "    all_neighbors = np.array([np.array(x) for x in all_neighbors])\n",
    "    return all_neighbors\n",
    "\n",
    "def get_neighbors4(Al):\n",
    "    all_neighbors = []\n",
    "    rows, cols = Al.nonzero()\n",
    "    prev_i = 0\n",
    "    for i in rows:\n",
    "        if i != prev_i:\n",
    "            all_neighbors.append(cols[prev_i:i-1])\n",
    "            prev_i = i\n",
    "    all_neighbors.append(cols[prev_i:i-1])\n",
    "    return all_neighbors\n",
    "\n",
    "%timeit get_neighbors3(A)\n",
    "%timeit get_neighbors4(Al)"
   ]
  },
  {
   "cell_type": "code",
   "execution_count": 106,
   "metadata": {},
   "outputs": [
    {
     "name": "stdout",
     "output_type": "stream",
     "text": [
      "1000\n",
      "1000\n",
      "[[1 2 3]\n",
      " [2 3 4]\n",
      " [3 4 5]]\n"
     ]
    }
   ],
   "source": [
    "n3 = get_neighbors3(Al)\n",
    "n4 = get_neighbors4(Al)\n",
    "print(len(n3))\n",
    "print(len(n4))\n",
    "print np.array([[1,2,3],[2,3,4],[3,4,5]])\n",
    "# print np.asarray(n4)"
   ]
  },
  {
   "cell_type": "code",
   "execution_count": 108,
   "metadata": {},
   "outputs": [
    {
     "data": {
      "text/plain": [
       "(array([  0,   0,   0, ..., 999, 999, 999], dtype=int32),\n",
       " array([ 18,  74, 229, ..., 330, 445, 615], dtype=int32))"
      ]
     },
     "execution_count": 108,
     "metadata": {},
     "output_type": "execute_result"
    }
   ],
   "source": [
    "A.nonzero()"
   ]
  },
  {
   "cell_type": "code",
   "execution_count": 89,
   "metadata": {},
   "outputs": [
    {
     "data": {
      "text/plain": [
       "[]"
      ]
     },
     "execution_count": 89,
     "metadata": {},
     "output_type": "execute_result"
    }
   ],
   "source": [
    "all_neighbors = []*Al.shape[0]\n",
    "all_neighbors"
   ]
  },
  {
   "cell_type": "code",
   "execution_count": 87,
   "metadata": {},
   "outputs": [
    {
     "name": "stdout",
     "output_type": "stream",
     "text": [
      "[]\n"
     ]
    },
    {
     "ename": "ValueError",
     "evalue": "could not broadcast input array from shape (3) into shape (0)",
     "output_type": "error",
     "traceback": [
      "\u001b[0;31m---------------------------------------------------------------------------\u001b[0m",
      "\u001b[0;31mValueError\u001b[0m                                Traceback (most recent call last)",
      "\u001b[0;32m<ipython-input-87-0e73856ae6b0>\u001b[0m in \u001b[0;36m<module>\u001b[0;34m()\u001b[0m\n\u001b[1;32m      1\u001b[0m \u001b[0mtest\u001b[0m \u001b[0;34m=\u001b[0m \u001b[0mnp\u001b[0m\u001b[0;34m.\u001b[0m\u001b[0marray\u001b[0m\u001b[0;34m(\u001b[0m\u001b[0;34m[\u001b[0m\u001b[0;34m[\u001b[0m\u001b[0;34m]\u001b[0m\u001b[0;34m,\u001b[0m \u001b[0;34m[\u001b[0m\u001b[0;34m]\u001b[0m\u001b[0;34m]\u001b[0m\u001b[0;34m)\u001b[0m\u001b[0;34m\u001b[0m\u001b[0m\n\u001b[1;32m      2\u001b[0m \u001b[0;32mprint\u001b[0m\u001b[0;34m(\u001b[0m\u001b[0mtest\u001b[0m\u001b[0;34m[\u001b[0m\u001b[0;36m0\u001b[0m\u001b[0;34m]\u001b[0m\u001b[0;34m)\u001b[0m\u001b[0;34m\u001b[0m\u001b[0m\n\u001b[0;32m----> 3\u001b[0;31m \u001b[0mtest\u001b[0m\u001b[0;34m[\u001b[0m\u001b[0;36m0\u001b[0m\u001b[0;34m]\u001b[0m \u001b[0;34m=\u001b[0m \u001b[0mnp\u001b[0m\u001b[0;34m.\u001b[0m\u001b[0masarray\u001b[0m\u001b[0;34m(\u001b[0m\u001b[0;34m[\u001b[0m\u001b[0;36m1\u001b[0m\u001b[0;34m,\u001b[0m\u001b[0;36m2\u001b[0m\u001b[0;34m,\u001b[0m\u001b[0;36m3\u001b[0m\u001b[0;34m]\u001b[0m\u001b[0;34m)\u001b[0m\u001b[0;34m\u001b[0m\u001b[0m\n\u001b[0m\u001b[1;32m      4\u001b[0m \u001b[0mtest\u001b[0m\u001b[0;34m[\u001b[0m\u001b[0;36m0\u001b[0m\u001b[0;34m]\u001b[0m\u001b[0;34m\u001b[0m\u001b[0m\n",
      "\u001b[0;31mValueError\u001b[0m: could not broadcast input array from shape (3) into shape (0)"
     ]
    }
   ],
   "source": [
    "test = np.array([[], []])\n",
    "print(test[0])\n",
    "test[0] = np.asarray([1,2,3])\n",
    "test[0] "
   ]
  },
  {
   "cell_type": "code",
   "execution_count": 116,
   "metadata": {},
   "outputs": [],
   "source": [
    "# NumPy arrays\n",
    "a = np.unique(np.random.randint(0, high=1000, size=1000))\n",
    "b = np.unique(np.random.randint(0, high=1000, size=1000))\n",
    "\n",
    "# Python's built-in set objects\n",
    "sa = set(a)\n",
    "sb = set(b)"
   ]
  },
  {
   "cell_type": "code",
   "execution_count": 126,
   "metadata": {},
   "outputs": [
    {
     "name": "stdout",
     "output_type": "stream",
     "text": [
      "10000 loops, best of 3: 22.9 µs per loop\n"
     ]
    }
   ],
   "source": [
    "%timeit np.intersect1d(a, b, assume_unique=True)\n",
    "%timeit sa & sb"
   ]
  },
  {
   "cell_type": "code",
   "execution_count": 2,
   "metadata": {},
   "outputs": [],
   "source": [
    "# compare using a lil matrix\n",
    "x=sparse.lil_matrix(np.arange(120).reshape(24,5))"
   ]
  },
  {
   "cell_type": "code",
   "execution_count": 5,
   "metadata": {},
   "outputs": [
    {
     "name": "stdout",
     "output_type": "stream",
     "text": [
      "The slowest run took 5.24 times longer than the fastest. This could mean that an intermediate result is being cached.\n",
      "10000 loops, best of 3: 71.8 µs per loop\n",
      "10000 loops, best of 3: 96.7 µs per loop\n",
      "10000 loops, best of 3: 51 µs per loop\n",
      "10000 loops, best of 3: 24.2 µs per loop\n"
     ]
    }
   ],
   "source": [
    "%timeit x[10,:]=10\n",
    "%timeit y=x.getrowview(10);y[:]=10\n",
    "%timeit x[10,:]\n",
    "%timeit x.getrowview(10)"
   ]
  },
  {
   "cell_type": "markdown",
   "metadata": {},
   "source": [
    "I already tried speeding-up ripple using a lil matrix to index, and then convert that to a csr matrix.\n",
    "Didn't help!"
   ]
  },
  {
   "cell_type": "code",
   "execution_count": 26,
   "metadata": {},
   "outputs": [
    {
     "name": "stdout",
     "output_type": "stream",
     "text": [
      "100000\n",
      "(1000, 10000)\n"
     ]
    }
   ],
   "source": [
    "A = sparse.rand(1000,10000).tocsr()\n",
    "B = A.tolil()\n",
    "C = A.tocsc()\n",
    "#A = sparse.rand(60000,60000, density=0.001).tocsr()\n",
    "\n",
    "print(len(A.data))\n",
    "print(A.shape)"
   ]
  },
  {
   "cell_type": "code",
   "execution_count": 24,
   "metadata": {},
   "outputs": [],
   "source": [
    "def get_rows_lil(A, rows):\n",
    "    test = []\n",
    "    for i in rows:\n",
    "#         row = A.getrowview(i)\n",
    "#         test.append((row > .5).nonzero()[1])\n",
    "        test.append(A.rows[i])\n",
    "    return test\n",
    "        \n",
    "def get_rows_csr(A, rows):\n",
    "    test = []\n",
    "    for i in rows:\n",
    "        row = A[i]\n",
    "        test.append((row > .5).nonzero()[1])\n",
    "    return test\n",
    "\n",
    "def get_rows_csr2(A, rows):\n",
    "    test = []\n",
    "    for i in rows:\n",
    "        row = A[i].toarray().flatten()\n",
    "        test.append(np.where(row > 0)[0])\n",
    "    return test"
   ]
  },
  {
   "cell_type": "code",
   "execution_count": 6,
   "metadata": {},
   "outputs": [
    {
     "name": "stdout",
     "output_type": "stream",
     "text": [
      "100 loops, best of 3: 14.5 ms per loop\n",
      "10 loops, best of 3: 35.3 ms per loop\n",
      "1 loop, best of 3: 226 ms per loop\n"
     ]
    }
   ],
   "source": [
    "%timeit get_rows_lil(B, range(B.shape[0]))\n",
    "%timeit get_rows_csr(B, range(B.shape[0]))\n",
    "%timeit get_rows_csr(C, range(C.shape[0]))"
   ]
  },
  {
   "cell_type": "code",
   "execution_count": 27,
   "metadata": {},
   "outputs": [
    {
     "name": "stdout",
     "output_type": "stream",
     "text": [
      "10000 loops, best of 3: 170 µs per loop\n",
      "1 loop, best of 3: 286 ms per loop\n",
      "1 loop, best of 3: 1.02 s per loop\n",
      "1 loop, best of 3: 7.99 s per loop\n",
      "1 loop, best of 3: 1.28 s per loop\n"
     ]
    }
   ],
   "source": [
    "%timeit get_rows_lil(B, range(B.shape[0]))\n",
    "%timeit get_rows_csr(B, range(B.shape[0]))\n",
    "%timeit get_rows_csr(C, range(C.shape[0]))\n",
    "D = C.todok()\n",
    "%timeit get_rows_csr(D, range(C.shape[0]))\n",
    "# not implemented for bsr\n",
    "# E = C.tobsr()\n",
    "# %timeit get_rows_csr(E, range(C.shape[0]))\n",
    "%timeit get_rows_csr2(C, range(C.shape[0]))"
   ]
  },
  {
   "cell_type": "code",
   "execution_count": 23,
   "metadata": {},
   "outputs": [
    {
     "data": {
      "text/plain": [
       "[22, 45, 91, 296, 348, 443, 492, 578, 734, 743, 969]"
      ]
     },
     "execution_count": 23,
     "metadata": {},
     "output_type": "execute_result"
    }
   ],
   "source": [
    "B.rows[0]"
   ]
  },
  {
   "cell_type": "code",
   "execution_count": 62,
   "metadata": {},
   "outputs": [
    {
     "name": "stdout",
     "output_type": "stream",
     "text": [
      "10000 loops, best of 3: 158 µs per loop\n",
      "1000 loops, best of 3: 663 µs per loop\n"
     ]
    }
   ],
   "source": [
    "# try indexing a row of scipy\n",
    "rows = np.random.randint(1000, size=10)\n",
    "cols = np.random.randint(1000, size=10)\n",
    "\n",
    "# getrowview doesn't actually do anything special\n",
    "# B.getrowview(rows)\n",
    "# B[rows,:][:,cols]\n",
    "# %timeit B.getrowview(rows)[cols]\n",
    "# %timeit C[rows][:,cols]\n",
    "# %timeit C[:,cols][rows]\n",
    "%timeit B[rows][:,cols]\n",
    "%timeit A[rows][:,cols]\n",
    "# %timeit B[0]\n",
    "# %timeit B.getrowview(0)"
   ]
  },
  {
   "cell_type": "code",
   "execution_count": 59,
   "metadata": {},
   "outputs": [],
   "source": [
    "def get_rows_lil(B, rows):\n",
    "    new = sparse.lil_matrix(len(rows), B.shape[1])\n",
    "    new.rows = B.rows[rows]\n",
    "    new.data = B.data[rows]\n",
    "    return new"
   ]
  },
  {
   "cell_type": "code",
   "execution_count": 69,
   "metadata": {},
   "outputs": [
    {
     "name": "stdout",
     "output_type": "stream",
     "text": [
      "The slowest run took 4.61 times longer than the fastest. This could mean that an intermediate result is being cached.\n",
      "1000 loops, best of 3: 265 µs per loop\n",
      "10000 loops, best of 3: 57.7 µs per loop\n"
     ]
    }
   ],
   "source": [
    "# print(B.shape)\n",
    "%timeit get_rows_lil(B,rows)\n",
    "%timeit B[rows]"
   ]
  },
  {
   "cell_type": "markdown",
   "metadata": {},
   "source": [
    "# Ripple Python vs Matlab\n",
    "\n",
    "The bottleneck for ripple is currently getting the submatrix at each step.\n",
    "Try comparing the time it takes to get a submatrix in python and in matlab"
   ]
  },
  {
   "cell_type": "code",
   "execution_count": 14,
   "metadata": {},
   "outputs": [
    {
     "name": "stdout",
     "output_type": "stream",
     "text": [
      "4900000\n",
      "(70000, 70000)\n"
     ]
    }
   ],
   "source": [
    "# these are about the dimensions of the network I'm working with. 70K nodes and 5M edges\n",
    "A = sparse.rand(70000,70000, density=0.001).tocsr()\n",
    "B = A.tolil()\n",
    "C = A.tocsc()\n",
    "\n",
    "print(len(A.data))\n",
    "print(A.shape)"
   ]
  },
  {
   "cell_type": "code",
   "execution_count": 12,
   "metadata": {},
   "outputs": [],
   "source": [
    "# try getting a subset of nodes from the matrix\n",
    "nodes = np.random.randint(70000, size=1000)"
   ]
  },
  {
   "cell_type": "code",
   "execution_count": 17,
   "metadata": {},
   "outputs": [
    {
     "name": "stdout",
     "output_type": "stream",
     "text": [
      "100 loops, best of 3: 1.72 ms per loop\n",
      "10 loops, best of 3: 62.4 ms per loop\n",
      "10 loops, best of 3: 23.7 ms per loop\n"
     ]
    }
   ],
   "source": [
    "%timeit test = A[nodes][:,nodes]\n",
    "%timeit test = B[nodes][:,nodes]\n",
    "%timeit test = C[nodes][:,nodes]"
   ]
  },
  {
   "cell_type": "code",
   "execution_count": 15,
   "metadata": {},
   "outputs": [],
   "source": [
    "x = np.random.rand(70000)"
   ]
  },
  {
   "cell_type": "code",
   "execution_count": 12,
   "metadata": {},
   "outputs": [
    {
     "name": "stdout",
     "output_type": "stream",
     "text": [
      "100 loops, best of 3: 12.5 ms per loop\n"
     ]
    }
   ],
   "source": [
    "# import time\n",
    "# start = time.time()\n",
    "%timeit sparse.csr_matrix.dot(A,x)\n",
    "# print(time.time() - start)"
   ]
  },
  {
   "cell_type": "markdown",
   "metadata": {},
   "source": [
    "### Matlab"
   ]
  },
  {
   "cell_type": "code",
   "execution_count": null,
   "metadata": {},
   "outputs": [],
   "source": [
    "# now repeat the same in matlab\n",
    "A = sprand(70000,70000,.001);\n",
    "Atrans = A';\n",
    "nodes = randi(70000, [1,1000]);\n",
    "f = @() A(nodes, nodes);\n",
    "timeit(f)\n",
    "x = rand(70000,1);\n",
    "f = @() Atrans'*x;\n",
    "timeit(f)"
   ]
  },
  {
   "cell_type": "markdown",
   "metadata": {},
   "source": [
    "### Julia\n",
    "I wonder if I could use Julia? That is supposedly fast.\n",
    "Running the code below, Julia takes about 0.0013 sec (1.13 ms)"
   ]
  },
  {
   "cell_type": "code",
   "execution_count": null,
   "metadata": {},
   "outputs": [],
   "source": [
    "# I was able to repeat the same test in Julia with the following code:\n",
    "# first run julia: /data/jeff-law/tools/julia/julia-1.0.0/bin/julia\n",
    "using SparseArrays\n",
    "using BenchmarkTools\n",
    "A = sprand(Float64, 70000,70000,.001)\n",
    "nodes = rand(1:70000, 1000)\n",
    "@benchmark A[nodes,nodes]"
   ]
  },
  {
   "cell_type": "markdown",
   "metadata": {},
   "source": [
    "- Matlab takes .......  ~8.2e-04 sec\n",
    "- Python takes ........ 1.7e-03 sec\n",
    "- Julia takes ............ 1.1e-03 sec\n",
    "\n",
    "Looks like Matlab is about 2x faster than python for sparse matrix slicing\n",
    "\n",
    "here's a helpful link: \n",
    "https://stackoverflow.com/questions/45516690/is-sparse-matrix-vector-multiplication-faster-in-matlab-than-in-python\n",
    "\n",
    "For matrix multiplication A*x:\n",
    "\n",
    "\n",
    "| Method | Time (sec) | notes |\n",
    "|--------|------ | ----- |\n",
    "|Matlab  | 0.0071 | Atrans'*x is fastser for some reason |\n",
    "| Python | 0.012  | |\n",
    "| Julia  | 0.018  | |\n",
    "\n",
    "I'm not totally sure if Matlab and Julia are utilizing the sparse matrix, but I can't find any documentation for how to do sparse dot product in Matlab and Julia\n"
   ]
  },
  {
   "cell_type": "code",
   "execution_count": 2,
   "metadata": {},
   "outputs": [
    {
     "name": "stdout",
     "output_type": "stream",
     "text": [
      "100 loops, best of 3: 1.89 ms per loop\n",
      "1000 loops, best of 3: 1.4 ms per loop\n"
     ]
    }
   ],
   "source": [
    "# extra networkx comparison\n",
    "import networkx as nx\n",
    "G = nx.Graph()\n",
    "G.add_path(range(1000))\n",
    "def test1(G):\n",
    "    for u,v, in G.edges():\n",
    "        G.edges[u,v]['weight'] = 2\n",
    "def test2(G):\n",
    "    for u,v, in G.edges():\n",
    "        G.adj[u][v]['weight'] = 3\n",
    "%timeit test1(G)\n",
    "%timeit test2(G)"
   ]
  },
  {
   "cell_type": "code",
   "execution_count": 18,
   "metadata": {},
   "outputs": [],
   "source": [
    "from scipy.sparse import linalg as spla\n",
    "# also test different solvers\n",
    "M2 = spla.spilu(C)\n",
    "M2 = spla.LinearOperator(C.shape, M2.solve)"
   ]
  },
  {
   "cell_type": "code",
   "execution_count": null,
   "metadata": {},
   "outputs": [
    {
     "name": "stdout",
     "output_type": "stream",
     "text": [
      "1 loop, best of 3: 3h 27min 21s per loop\n"
     ]
    },
    {
     "name": "stderr",
     "output_type": "stream",
     "text": [
      "/home/jeffl/.local/lib/python2.7/site-packages/scipy/sparse/linalg/isolve/iterative.py:308: RuntimeWarning: invalid value encountered in multiply\n",
      "  work[slice2] *= sclr2\n"
     ]
    }
   ],
   "source": [
    "%timeit spla.cg(A, x)\n",
    "%timeit spla.cg(A, x, M=M2)"
   ]
  }
 ],
 "metadata": {
  "kernelspec": {
   "display_name": "Python 2",
   "language": "python",
   "name": "python2"
  },
  "language_info": {
   "codemirror_mode": {
    "name": "ipython",
    "version": 2
   },
   "file_extension": ".py",
   "mimetype": "text/x-python",
   "name": "python",
   "nbconvert_exporter": "python",
   "pygments_lexer": "ipython2",
   "version": "2.7.12"
  }
 },
 "nbformat": 4,
 "nbformat_minor": 2
}
